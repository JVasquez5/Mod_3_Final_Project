{
 "cells": [
  {
   "cell_type": "markdown",
   "metadata": {},
   "source": [
    "## Final Project Submission\n",
    "\n",
    "Please fill out:\n",
    "* Student name: Kevin Evans & Jonathan Vasquez\n",
    "* Student pace: Full Time\n",
    "* Scheduled project review date/time: 07/10/2020\n",
    "* Instructor name: Sean Wilson\n",
    "* Blog post URL:\n"
   ]
  },
  {
   "cell_type": "code",
   "execution_count": 55,
   "metadata": {},
   "outputs": [],
   "source": [
    "# Importing Libraries\n",
    "import pandas as pd\n",
    "import numpy as np\n",
    "import seaborn as sns\n",
    "import sqlite3 \n",
    "import matplotlib.pyplot as plt\n",
    "import itertools\n",
    "import warnings\n",
    "import scipy.stats as stats\n",
    "\n",
    "\n",
    "from pandas import set_option\n",
    "plt.style.use('ggplot')\n",
    "pd.set_option('display.max_columns', 1000)\n",
    "%matplotlib inline \n",
    "import warnings; warnings.simplefilter('ignore')\n",
    "\n",
    "from imblearn.over_sampling import SMOTE\n",
    "from collections import Counter\n",
    "from imblearn.under_sampling import TomekLinks\n",
    "from IPython.display import Image  \n",
    "import pydotplus\n",
    "\n",
    "from sklearn import metrics\n",
    "\n",
    "from sklearn.preprocessing import StandardScaler\n",
    "from sklearn.preprocessing import MinMaxScaler\n",
    "\n",
    "from sklearn.metrics import accuracy_score, f1_score, recall_score\n",
    "from sklearn.metrics import make_scorer, accuracy_score \n",
    "from sklearn.metrics import classification_report\n",
    "from sklearn.metrics import confusion_matrix\n",
    "\n",
    "from sklearn.neighbors import KNeighborsClassifier\n",
    "\n",
    "from sklearn.tree import DecisionTreeClassifier \n",
    "from sklearn.tree import export_graphviz\n",
    "\n",
    "from sklearn.externals.six import StringIO  \n",
    "\n",
    "from sklearn.model_selection import GridSearchCV\n",
    "from sklearn.model_selection import RandomizedSearchCV  \n",
    "from sklearn.model_selection import cross_val_score\n",
    "from sklearn.model_selection import train_test_split \n",
    "from sklearn.model_selection import KFold \n",
    "\n",
    "from scipy.stats import randint\n",
    "\n",
    "from sklearn.linear_model import LogisticRegression \n",
    "\n",
    "from sklearn.feature_selection import RFE\n",
    "\n",
    "from sklearn.pipeline import Pipeline \n",
    "\n",
    "from sklearn.ensemble import RandomForestClassifier\n",
    "from sklearn.ensemble import ExtraTreesClassifier\n",
    "\n",
    "from sklearn.feature_selection import SelectFromModel\n",
    "\n",
    "from sklearn.utils import resample"
   ]
  },
  {
   "cell_type": "markdown",
   "metadata": {},
   "source": [
    "Data info is here:\n",
    "https://archive.ics.uci.edu/ml/datasets/Drug+consumption+%28quantified%29#"
   ]
  },
  {
   "cell_type": "markdown",
   "metadata": {},
   "source": [
    "#### Drug Usuage Identifier\n",
    "* CL0 Never Used\n",
    "* CL1 Used over a Decade Ago  \n",
    "* CL2 Used in Last Decade \n",
    "* CL3 Used in Last Year  \n",
    "* CL4 Used in Last Month  \n",
    "* CL5 Used in Last Week \n",
    "* CL6 Used in Last Day"
   ]
  },
  {
   "cell_type": "markdown",
   "metadata": {},
   "source": [
    "#### Drug Definition\n",
    "\n",
    "* Amyl Nitrite (AKA Poppers, similar to acid (LSD) and ecstasy)\n",
    "* Legal High (AKA Bath Salts,avaliable to buy OTC)\n",
    "* VSA (Volatile Substance Abuse, glue/marker sniffers)"
   ]
  },
  {
   "cell_type": "markdown",
   "metadata": {},
   "source": [
    "# Importing/Inspecting Data"
   ]
  },
  {
   "cell_type": "code",
   "execution_count": 76,
   "metadata": {},
   "outputs": [
    {
     "data": {
      "text/html": [
       "<div>\n",
       "<style scoped>\n",
       "    .dataframe tbody tr th:only-of-type {\n",
       "        vertical-align: middle;\n",
       "    }\n",
       "\n",
       "    .dataframe tbody tr th {\n",
       "        vertical-align: top;\n",
       "    }\n",
       "\n",
       "    .dataframe thead th {\n",
       "        text-align: right;\n",
       "    }\n",
       "</style>\n",
       "<table border=\"1\" class=\"dataframe\">\n",
       "  <thead>\n",
       "    <tr style=\"text-align: right;\">\n",
       "      <th></th>\n",
       "      <th>Age</th>\n",
       "      <th>Gender</th>\n",
       "      <th>Education</th>\n",
       "      <th>Country</th>\n",
       "      <th>Ethnicity</th>\n",
       "      <th>Nscore</th>\n",
       "      <th>Escore</th>\n",
       "      <th>Oscore</th>\n",
       "      <th>Ascore</th>\n",
       "      <th>Cscore</th>\n",
       "      <th>Impulsive</th>\n",
       "      <th>SS</th>\n",
       "      <th>Alcohol</th>\n",
       "      <th>Amphet</th>\n",
       "      <th>Amyl</th>\n",
       "      <th>Benzos</th>\n",
       "      <th>Caff</th>\n",
       "      <th>Cannabis</th>\n",
       "      <th>Choc</th>\n",
       "      <th>Coke</th>\n",
       "      <th>Crack</th>\n",
       "      <th>Ecstasy</th>\n",
       "      <th>Heroin</th>\n",
       "      <th>Ketamine</th>\n",
       "      <th>Legalh</th>\n",
       "      <th>LSD</th>\n",
       "      <th>Meth</th>\n",
       "      <th>Mushrooms</th>\n",
       "      <th>Nicotine</th>\n",
       "      <th>Semer</th>\n",
       "      <th>VSA</th>\n",
       "    </tr>\n",
       "    <tr>\n",
       "      <th>ID</th>\n",
       "      <th></th>\n",
       "      <th></th>\n",
       "      <th></th>\n",
       "      <th></th>\n",
       "      <th></th>\n",
       "      <th></th>\n",
       "      <th></th>\n",
       "      <th></th>\n",
       "      <th></th>\n",
       "      <th></th>\n",
       "      <th></th>\n",
       "      <th></th>\n",
       "      <th></th>\n",
       "      <th></th>\n",
       "      <th></th>\n",
       "      <th></th>\n",
       "      <th></th>\n",
       "      <th></th>\n",
       "      <th></th>\n",
       "      <th></th>\n",
       "      <th></th>\n",
       "      <th></th>\n",
       "      <th></th>\n",
       "      <th></th>\n",
       "      <th></th>\n",
       "      <th></th>\n",
       "      <th></th>\n",
       "      <th></th>\n",
       "      <th></th>\n",
       "      <th></th>\n",
       "      <th></th>\n",
       "    </tr>\n",
       "  </thead>\n",
       "  <tbody>\n",
       "    <tr>\n",
       "      <td>1</td>\n",
       "      <td>0.49788</td>\n",
       "      <td>0.48246</td>\n",
       "      <td>-0.05921</td>\n",
       "      <td>0.96082</td>\n",
       "      <td>0.12600</td>\n",
       "      <td>0.31287</td>\n",
       "      <td>-0.57545</td>\n",
       "      <td>-0.58331</td>\n",
       "      <td>-0.91699</td>\n",
       "      <td>-0.00665</td>\n",
       "      <td>-0.21712</td>\n",
       "      <td>-1.18084</td>\n",
       "      <td>CL5</td>\n",
       "      <td>CL2</td>\n",
       "      <td>CL0</td>\n",
       "      <td>CL2</td>\n",
       "      <td>CL6</td>\n",
       "      <td>CL0</td>\n",
       "      <td>CL5</td>\n",
       "      <td>CL0</td>\n",
       "      <td>CL0</td>\n",
       "      <td>CL0</td>\n",
       "      <td>CL0</td>\n",
       "      <td>CL0</td>\n",
       "      <td>CL0</td>\n",
       "      <td>CL0</td>\n",
       "      <td>CL0</td>\n",
       "      <td>CL0</td>\n",
       "      <td>CL2</td>\n",
       "      <td>CL0</td>\n",
       "      <td>CL0</td>\n",
       "    </tr>\n",
       "    <tr>\n",
       "      <td>2</td>\n",
       "      <td>-0.07854</td>\n",
       "      <td>-0.48246</td>\n",
       "      <td>1.98437</td>\n",
       "      <td>0.96082</td>\n",
       "      <td>-0.31685</td>\n",
       "      <td>-0.67825</td>\n",
       "      <td>1.93886</td>\n",
       "      <td>1.43533</td>\n",
       "      <td>0.76096</td>\n",
       "      <td>-0.14277</td>\n",
       "      <td>-0.71126</td>\n",
       "      <td>-0.21575</td>\n",
       "      <td>CL5</td>\n",
       "      <td>CL2</td>\n",
       "      <td>CL2</td>\n",
       "      <td>CL0</td>\n",
       "      <td>CL6</td>\n",
       "      <td>CL4</td>\n",
       "      <td>CL6</td>\n",
       "      <td>CL3</td>\n",
       "      <td>CL0</td>\n",
       "      <td>CL4</td>\n",
       "      <td>CL0</td>\n",
       "      <td>CL2</td>\n",
       "      <td>CL0</td>\n",
       "      <td>CL2</td>\n",
       "      <td>CL3</td>\n",
       "      <td>CL0</td>\n",
       "      <td>CL4</td>\n",
       "      <td>CL0</td>\n",
       "      <td>CL0</td>\n",
       "    </tr>\n",
       "    <tr>\n",
       "      <td>3</td>\n",
       "      <td>0.49788</td>\n",
       "      <td>-0.48246</td>\n",
       "      <td>-0.05921</td>\n",
       "      <td>0.96082</td>\n",
       "      <td>-0.31685</td>\n",
       "      <td>-0.46725</td>\n",
       "      <td>0.80523</td>\n",
       "      <td>-0.84732</td>\n",
       "      <td>-1.62090</td>\n",
       "      <td>-1.01450</td>\n",
       "      <td>-1.37983</td>\n",
       "      <td>0.40148</td>\n",
       "      <td>CL6</td>\n",
       "      <td>CL0</td>\n",
       "      <td>CL0</td>\n",
       "      <td>CL0</td>\n",
       "      <td>CL6</td>\n",
       "      <td>CL3</td>\n",
       "      <td>CL4</td>\n",
       "      <td>CL0</td>\n",
       "      <td>CL0</td>\n",
       "      <td>CL0</td>\n",
       "      <td>CL0</td>\n",
       "      <td>CL0</td>\n",
       "      <td>CL0</td>\n",
       "      <td>CL0</td>\n",
       "      <td>CL0</td>\n",
       "      <td>CL1</td>\n",
       "      <td>CL0</td>\n",
       "      <td>CL0</td>\n",
       "      <td>CL0</td>\n",
       "    </tr>\n",
       "    <tr>\n",
       "      <td>4</td>\n",
       "      <td>-0.95197</td>\n",
       "      <td>0.48246</td>\n",
       "      <td>1.16365</td>\n",
       "      <td>0.96082</td>\n",
       "      <td>-0.31685</td>\n",
       "      <td>-0.14882</td>\n",
       "      <td>-0.80615</td>\n",
       "      <td>-0.01928</td>\n",
       "      <td>0.59042</td>\n",
       "      <td>0.58489</td>\n",
       "      <td>-1.37983</td>\n",
       "      <td>-1.18084</td>\n",
       "      <td>CL4</td>\n",
       "      <td>CL0</td>\n",
       "      <td>CL0</td>\n",
       "      <td>CL3</td>\n",
       "      <td>CL5</td>\n",
       "      <td>CL2</td>\n",
       "      <td>CL4</td>\n",
       "      <td>CL2</td>\n",
       "      <td>CL0</td>\n",
       "      <td>CL0</td>\n",
       "      <td>CL0</td>\n",
       "      <td>CL2</td>\n",
       "      <td>CL0</td>\n",
       "      <td>CL0</td>\n",
       "      <td>CL0</td>\n",
       "      <td>CL0</td>\n",
       "      <td>CL2</td>\n",
       "      <td>CL0</td>\n",
       "      <td>CL0</td>\n",
       "    </tr>\n",
       "    <tr>\n",
       "      <td>5</td>\n",
       "      <td>0.49788</td>\n",
       "      <td>0.48246</td>\n",
       "      <td>1.98437</td>\n",
       "      <td>0.96082</td>\n",
       "      <td>-0.31685</td>\n",
       "      <td>0.73545</td>\n",
       "      <td>-1.63340</td>\n",
       "      <td>-0.45174</td>\n",
       "      <td>-0.30172</td>\n",
       "      <td>1.30612</td>\n",
       "      <td>-0.21712</td>\n",
       "      <td>-0.21575</td>\n",
       "      <td>CL4</td>\n",
       "      <td>CL1</td>\n",
       "      <td>CL1</td>\n",
       "      <td>CL0</td>\n",
       "      <td>CL6</td>\n",
       "      <td>CL3</td>\n",
       "      <td>CL6</td>\n",
       "      <td>CL0</td>\n",
       "      <td>CL0</td>\n",
       "      <td>CL1</td>\n",
       "      <td>CL0</td>\n",
       "      <td>CL0</td>\n",
       "      <td>CL1</td>\n",
       "      <td>CL0</td>\n",
       "      <td>CL0</td>\n",
       "      <td>CL2</td>\n",
       "      <td>CL2</td>\n",
       "      <td>CL0</td>\n",
       "      <td>CL0</td>\n",
       "    </tr>\n",
       "    <tr>\n",
       "      <td>...</td>\n",
       "      <td>...</td>\n",
       "      <td>...</td>\n",
       "      <td>...</td>\n",
       "      <td>...</td>\n",
       "      <td>...</td>\n",
       "      <td>...</td>\n",
       "      <td>...</td>\n",
       "      <td>...</td>\n",
       "      <td>...</td>\n",
       "      <td>...</td>\n",
       "      <td>...</td>\n",
       "      <td>...</td>\n",
       "      <td>...</td>\n",
       "      <td>...</td>\n",
       "      <td>...</td>\n",
       "      <td>...</td>\n",
       "      <td>...</td>\n",
       "      <td>...</td>\n",
       "      <td>...</td>\n",
       "      <td>...</td>\n",
       "      <td>...</td>\n",
       "      <td>...</td>\n",
       "      <td>...</td>\n",
       "      <td>...</td>\n",
       "      <td>...</td>\n",
       "      <td>...</td>\n",
       "      <td>...</td>\n",
       "      <td>...</td>\n",
       "      <td>...</td>\n",
       "      <td>...</td>\n",
       "      <td>...</td>\n",
       "    </tr>\n",
       "    <tr>\n",
       "      <td>1884</td>\n",
       "      <td>-0.95197</td>\n",
       "      <td>0.48246</td>\n",
       "      <td>-0.61113</td>\n",
       "      <td>-0.57009</td>\n",
       "      <td>-0.31685</td>\n",
       "      <td>-1.19430</td>\n",
       "      <td>1.74091</td>\n",
       "      <td>1.88511</td>\n",
       "      <td>0.76096</td>\n",
       "      <td>-1.13788</td>\n",
       "      <td>0.88113</td>\n",
       "      <td>1.92173</td>\n",
       "      <td>CL5</td>\n",
       "      <td>CL0</td>\n",
       "      <td>CL0</td>\n",
       "      <td>CL0</td>\n",
       "      <td>CL4</td>\n",
       "      <td>CL5</td>\n",
       "      <td>CL4</td>\n",
       "      <td>CL0</td>\n",
       "      <td>CL0</td>\n",
       "      <td>CL0</td>\n",
       "      <td>CL0</td>\n",
       "      <td>CL0</td>\n",
       "      <td>CL3</td>\n",
       "      <td>CL3</td>\n",
       "      <td>CL0</td>\n",
       "      <td>CL0</td>\n",
       "      <td>CL0</td>\n",
       "      <td>CL0</td>\n",
       "      <td>CL5</td>\n",
       "    </tr>\n",
       "    <tr>\n",
       "      <td>1885</td>\n",
       "      <td>-0.95197</td>\n",
       "      <td>-0.48246</td>\n",
       "      <td>-0.61113</td>\n",
       "      <td>-0.57009</td>\n",
       "      <td>-0.31685</td>\n",
       "      <td>-0.24649</td>\n",
       "      <td>1.74091</td>\n",
       "      <td>0.58331</td>\n",
       "      <td>0.76096</td>\n",
       "      <td>-1.51840</td>\n",
       "      <td>0.88113</td>\n",
       "      <td>0.76540</td>\n",
       "      <td>CL5</td>\n",
       "      <td>CL0</td>\n",
       "      <td>CL0</td>\n",
       "      <td>CL0</td>\n",
       "      <td>CL5</td>\n",
       "      <td>CL3</td>\n",
       "      <td>CL4</td>\n",
       "      <td>CL0</td>\n",
       "      <td>CL0</td>\n",
       "      <td>CL2</td>\n",
       "      <td>CL0</td>\n",
       "      <td>CL0</td>\n",
       "      <td>CL3</td>\n",
       "      <td>CL5</td>\n",
       "      <td>CL4</td>\n",
       "      <td>CL4</td>\n",
       "      <td>CL5</td>\n",
       "      <td>CL0</td>\n",
       "      <td>CL0</td>\n",
       "    </tr>\n",
       "    <tr>\n",
       "      <td>1886</td>\n",
       "      <td>-0.07854</td>\n",
       "      <td>0.48246</td>\n",
       "      <td>0.45468</td>\n",
       "      <td>-0.57009</td>\n",
       "      <td>-0.31685</td>\n",
       "      <td>1.13281</td>\n",
       "      <td>-1.37639</td>\n",
       "      <td>-1.27553</td>\n",
       "      <td>-1.77200</td>\n",
       "      <td>-1.38502</td>\n",
       "      <td>0.52975</td>\n",
       "      <td>-0.52593</td>\n",
       "      <td>CL4</td>\n",
       "      <td>CL6</td>\n",
       "      <td>CL5</td>\n",
       "      <td>CL5</td>\n",
       "      <td>CL6</td>\n",
       "      <td>CL6</td>\n",
       "      <td>CL6</td>\n",
       "      <td>CL4</td>\n",
       "      <td>CL0</td>\n",
       "      <td>CL4</td>\n",
       "      <td>CL0</td>\n",
       "      <td>CL2</td>\n",
       "      <td>CL0</td>\n",
       "      <td>CL2</td>\n",
       "      <td>CL0</td>\n",
       "      <td>CL2</td>\n",
       "      <td>CL6</td>\n",
       "      <td>CL0</td>\n",
       "      <td>CL0</td>\n",
       "    </tr>\n",
       "    <tr>\n",
       "      <td>1887</td>\n",
       "      <td>-0.95197</td>\n",
       "      <td>0.48246</td>\n",
       "      <td>-0.61113</td>\n",
       "      <td>-0.57009</td>\n",
       "      <td>-0.31685</td>\n",
       "      <td>0.91093</td>\n",
       "      <td>-1.92173</td>\n",
       "      <td>0.29338</td>\n",
       "      <td>-1.62090</td>\n",
       "      <td>-2.57309</td>\n",
       "      <td>1.29221</td>\n",
       "      <td>1.22470</td>\n",
       "      <td>CL5</td>\n",
       "      <td>CL0</td>\n",
       "      <td>CL0</td>\n",
       "      <td>CL0</td>\n",
       "      <td>CL6</td>\n",
       "      <td>CL6</td>\n",
       "      <td>CL5</td>\n",
       "      <td>CL0</td>\n",
       "      <td>CL0</td>\n",
       "      <td>CL3</td>\n",
       "      <td>CL0</td>\n",
       "      <td>CL0</td>\n",
       "      <td>CL3</td>\n",
       "      <td>CL3</td>\n",
       "      <td>CL0</td>\n",
       "      <td>CL3</td>\n",
       "      <td>CL4</td>\n",
       "      <td>CL0</td>\n",
       "      <td>CL0</td>\n",
       "    </tr>\n",
       "    <tr>\n",
       "      <td>1888</td>\n",
       "      <td>-0.95197</td>\n",
       "      <td>-0.48246</td>\n",
       "      <td>-0.61113</td>\n",
       "      <td>0.21128</td>\n",
       "      <td>-0.31685</td>\n",
       "      <td>-0.46725</td>\n",
       "      <td>2.12700</td>\n",
       "      <td>1.65653</td>\n",
       "      <td>1.11406</td>\n",
       "      <td>0.41594</td>\n",
       "      <td>0.88113</td>\n",
       "      <td>1.22470</td>\n",
       "      <td>CL4</td>\n",
       "      <td>CL3</td>\n",
       "      <td>CL0</td>\n",
       "      <td>CL3</td>\n",
       "      <td>CL6</td>\n",
       "      <td>CL3</td>\n",
       "      <td>CL6</td>\n",
       "      <td>CL3</td>\n",
       "      <td>CL0</td>\n",
       "      <td>CL3</td>\n",
       "      <td>CL0</td>\n",
       "      <td>CL0</td>\n",
       "      <td>CL3</td>\n",
       "      <td>CL3</td>\n",
       "      <td>CL0</td>\n",
       "      <td>CL3</td>\n",
       "      <td>CL6</td>\n",
       "      <td>CL0</td>\n",
       "      <td>CL2</td>\n",
       "    </tr>\n",
       "  </tbody>\n",
       "</table>\n",
       "<p>1885 rows × 31 columns</p>\n",
       "</div>"
      ],
      "text/plain": [
       "          Age   Gender  Education  Country  Ethnicity   Nscore   Escore  \\\n",
       "ID                                                                        \n",
       "1     0.49788  0.48246   -0.05921  0.96082    0.12600  0.31287 -0.57545   \n",
       "2    -0.07854 -0.48246    1.98437  0.96082   -0.31685 -0.67825  1.93886   \n",
       "3     0.49788 -0.48246   -0.05921  0.96082   -0.31685 -0.46725  0.80523   \n",
       "4    -0.95197  0.48246    1.16365  0.96082   -0.31685 -0.14882 -0.80615   \n",
       "5     0.49788  0.48246    1.98437  0.96082   -0.31685  0.73545 -1.63340   \n",
       "...       ...      ...        ...      ...        ...      ...      ...   \n",
       "1884 -0.95197  0.48246   -0.61113 -0.57009   -0.31685 -1.19430  1.74091   \n",
       "1885 -0.95197 -0.48246   -0.61113 -0.57009   -0.31685 -0.24649  1.74091   \n",
       "1886 -0.07854  0.48246    0.45468 -0.57009   -0.31685  1.13281 -1.37639   \n",
       "1887 -0.95197  0.48246   -0.61113 -0.57009   -0.31685  0.91093 -1.92173   \n",
       "1888 -0.95197 -0.48246   -0.61113  0.21128   -0.31685 -0.46725  2.12700   \n",
       "\n",
       "       Oscore   Ascore   Cscore  Impulsive       SS Alcohol Amphet Amyl  \\\n",
       "ID                                                                        \n",
       "1    -0.58331 -0.91699 -0.00665   -0.21712 -1.18084     CL5    CL2  CL0   \n",
       "2     1.43533  0.76096 -0.14277   -0.71126 -0.21575     CL5    CL2  CL2   \n",
       "3    -0.84732 -1.62090 -1.01450   -1.37983  0.40148     CL6    CL0  CL0   \n",
       "4    -0.01928  0.59042  0.58489   -1.37983 -1.18084     CL4    CL0  CL0   \n",
       "5    -0.45174 -0.30172  1.30612   -0.21712 -0.21575     CL4    CL1  CL1   \n",
       "...       ...      ...      ...        ...      ...     ...    ...  ...   \n",
       "1884  1.88511  0.76096 -1.13788    0.88113  1.92173     CL5    CL0  CL0   \n",
       "1885  0.58331  0.76096 -1.51840    0.88113  0.76540     CL5    CL0  CL0   \n",
       "1886 -1.27553 -1.77200 -1.38502    0.52975 -0.52593     CL4    CL6  CL5   \n",
       "1887  0.29338 -1.62090 -2.57309    1.29221  1.22470     CL5    CL0  CL0   \n",
       "1888  1.65653  1.11406  0.41594    0.88113  1.22470     CL4    CL3  CL0   \n",
       "\n",
       "     Benzos Caff Cannabis Choc Coke Crack Ecstasy Heroin Ketamine Legalh  LSD  \\\n",
       "ID                                                                              \n",
       "1       CL2  CL6      CL0  CL5  CL0   CL0     CL0    CL0      CL0    CL0  CL0   \n",
       "2       CL0  CL6      CL4  CL6  CL3   CL0     CL4    CL0      CL2    CL0  CL2   \n",
       "3       CL0  CL6      CL3  CL4  CL0   CL0     CL0    CL0      CL0    CL0  CL0   \n",
       "4       CL3  CL5      CL2  CL4  CL2   CL0     CL0    CL0      CL2    CL0  CL0   \n",
       "5       CL0  CL6      CL3  CL6  CL0   CL0     CL1    CL0      CL0    CL1  CL0   \n",
       "...     ...  ...      ...  ...  ...   ...     ...    ...      ...    ...  ...   \n",
       "1884    CL0  CL4      CL5  CL4  CL0   CL0     CL0    CL0      CL0    CL3  CL3   \n",
       "1885    CL0  CL5      CL3  CL4  CL0   CL0     CL2    CL0      CL0    CL3  CL5   \n",
       "1886    CL5  CL6      CL6  CL6  CL4   CL0     CL4    CL0      CL2    CL0  CL2   \n",
       "1887    CL0  CL6      CL6  CL5  CL0   CL0     CL3    CL0      CL0    CL3  CL3   \n",
       "1888    CL3  CL6      CL3  CL6  CL3   CL0     CL3    CL0      CL0    CL3  CL3   \n",
       "\n",
       "     Meth Mushrooms Nicotine Semer  VSA  \n",
       "ID                                       \n",
       "1     CL0       CL0      CL2   CL0  CL0  \n",
       "2     CL3       CL0      CL4   CL0  CL0  \n",
       "3     CL0       CL1      CL0   CL0  CL0  \n",
       "4     CL0       CL0      CL2   CL0  CL0  \n",
       "5     CL0       CL2      CL2   CL0  CL0  \n",
       "...   ...       ...      ...   ...  ...  \n",
       "1884  CL0       CL0      CL0   CL0  CL5  \n",
       "1885  CL4       CL4      CL5   CL0  CL0  \n",
       "1886  CL0       CL2      CL6   CL0  CL0  \n",
       "1887  CL0       CL3      CL4   CL0  CL0  \n",
       "1888  CL0       CL3      CL6   CL0  CL2  \n",
       "\n",
       "[1885 rows x 31 columns]"
      ]
     },
     "execution_count": 76,
     "metadata": {},
     "output_type": "execute_result"
    }
   ],
   "source": [
    "df = pd.read_csv('drug_consumption.csv', index_col=0) #ID as index\n",
    "df"
   ]
  },
  {
   "cell_type": "code",
   "execution_count": 77,
   "metadata": {},
   "outputs": [
    {
     "data": {
      "text/plain": [
       "Index(['Age', 'Gender', 'Education', 'Country', 'Ethnicity', 'Nscore',\n",
       "       'Escore', 'Oscore', 'Ascore', 'Cscore', 'Impulsive', 'SS', 'Alcohol',\n",
       "       'Amphet', 'Amyl', 'Benzos', 'Caff', 'Cannabis', 'Choc', 'Coke', 'Crack',\n",
       "       'Ecstasy', 'Heroin', 'Ketamine', 'Legalh', 'LSD', 'Meth', 'Mushrooms',\n",
       "       'Nicotine', 'Semer', 'VSA'],\n",
       "      dtype='object')"
      ]
     },
     "execution_count": 77,
     "metadata": {},
     "output_type": "execute_result"
    }
   ],
   "source": [
    "df.columns"
   ]
  },
  {
   "cell_type": "markdown",
   "metadata": {},
   "source": [
    "# Data Cleaning/Feature Engineering"
   ]
  },
  {
   "cell_type": "code",
   "execution_count": 78,
   "metadata": {
    "scrolled": true
   },
   "outputs": [
    {
     "data": {
      "text/plain": [
       "Age          False\n",
       "Gender       False\n",
       "Education    False\n",
       "Country      False\n",
       "Ethnicity    False\n",
       "Nscore       False\n",
       "Escore       False\n",
       "Oscore       False\n",
       "Ascore       False\n",
       "Cscore       False\n",
       "Impulsive    False\n",
       "SS           False\n",
       "Alcohol      False\n",
       "Amphet       False\n",
       "Amyl         False\n",
       "Benzos       False\n",
       "Caff         False\n",
       "Cannabis     False\n",
       "Choc         False\n",
       "Coke         False\n",
       "Crack        False\n",
       "Ecstasy      False\n",
       "Heroin       False\n",
       "Ketamine     False\n",
       "Legalh       False\n",
       "LSD          False\n",
       "Meth         False\n",
       "Mushrooms    False\n",
       "Nicotine     False\n",
       "Semer        False\n",
       "VSA          False\n",
       "dtype: bool"
      ]
     },
     "execution_count": 78,
     "metadata": {},
     "output_type": "execute_result"
    }
   ],
   "source": [
    "df.isnull().any() #No Missing Values"
   ]
  },
  {
   "cell_type": "code",
   "execution_count": 79,
   "metadata": {
    "scrolled": false
   },
   "outputs": [
    {
     "data": {
      "image/png": "[encoded data removed]",
      "text/plain": [
       "<Figure size 432x288 with 1 Axes>"
      ]
     },
     "metadata": {
      "needs_background": "light"
     },
     "output_type": "display_data"
    }
   ],
   "source": [
    "#Visual Showing No Missing Values\n",
    "sns.heatmap(df.isnull(),yticklabels = False, cbar = False,cmap = 'tab20c_r')\n",
    "plt.title('Missing Data')\n",
    "plt.show()"
   ]
  },
  {
   "cell_type": "code",
   "execution_count": 80,
   "metadata": {
    "scrolled": true
   },
   "outputs": [
    {
     "name": "stdout",
     "output_type": "stream",
     "text": [
      "<class 'pandas.core.frame.DataFrame'>\n",
      "Int64Index: 1885 entries, 1 to 1888\n",
      "Data columns (total 31 columns):\n",
      "Age          1885 non-null float64\n",
      "Gender       1885 non-null float64\n",
      "Education    1885 non-null float64\n",
      "Country      1885 non-null float64\n",
      "Ethnicity    1885 non-null float64\n",
      "Nscore       1885 non-null float64\n",
      "Escore       1885 non-null float64\n",
      "Oscore       1885 non-null float64\n",
      "Ascore       1885 non-null float64\n",
      "Cscore       1885 non-null float64\n",
      "Impulsive    1885 non-null float64\n",
      "SS           1885 non-null float64\n",
      "Alcohol      1885 non-null object\n",
      "Amphet       1885 non-null object\n",
      "Amyl         1885 non-null object\n",
      "Benzos       1885 non-null object\n",
      "Caff         1885 non-null object\n",
      "Cannabis     1885 non-null object\n",
      "Choc         1885 non-null object\n",
      "Coke         1885 non-null object\n",
      "Crack        1885 non-null object\n",
      "Ecstasy      1885 non-null object\n",
      "Heroin       1885 non-null object\n",
      "Ketamine     1885 non-null object\n",
      "Legalh       1885 non-null object\n",
      "LSD          1885 non-null object\n",
      "Meth         1885 non-null object\n",
      "Mushrooms    1885 non-null object\n",
      "Nicotine     1885 non-null object\n",
      "Semer        1885 non-null object\n",
      "VSA          1885 non-null object\n",
      "dtypes: float64(12), object(19)\n",
      "memory usage: 471.2+ KB\n"
     ]
    }
   ],
   "source": [
    "df.info()"
   ]
  },
  {
   "cell_type": "markdown",
   "metadata": {},
   "source": [
    "Updating categorical data for drug use to be binary: \n",
    "* 0 = Non-User, 1 = User"
   ]
  },
  {
   "cell_type": "code",
   "execution_count": 81,
   "metadata": {},
   "outputs": [
    {
     "data": {
      "text/html": [
       "<div>\n",
       "<style scoped>\n",
       "    .dataframe tbody tr th:only-of-type {\n",
       "        vertical-align: middle;\n",
       "    }\n",
       "\n",
       "    .dataframe tbody tr th {\n",
       "        vertical-align: top;\n",
       "    }\n",
       "\n",
       "    .dataframe thead th {\n",
       "        text-align: right;\n",
       "    }\n",
       "</style>\n",
       "<table border=\"1\" class=\"dataframe\">\n",
       "  <thead>\n",
       "    <tr style=\"text-align: right;\">\n",
       "      <th></th>\n",
       "      <th>Age</th>\n",
       "      <th>Gender</th>\n",
       "      <th>Education</th>\n",
       "      <th>Country</th>\n",
       "      <th>Ethnicity</th>\n",
       "      <th>Nscore</th>\n",
       "      <th>Escore</th>\n",
       "      <th>Oscore</th>\n",
       "      <th>Ascore</th>\n",
       "      <th>Cscore</th>\n",
       "      <th>Impulsive</th>\n",
       "      <th>SS</th>\n",
       "      <th>Alcohol</th>\n",
       "      <th>Amphet</th>\n",
       "      <th>Amyl</th>\n",
       "      <th>Benzos</th>\n",
       "      <th>Caff</th>\n",
       "      <th>Cannabis</th>\n",
       "      <th>Choc</th>\n",
       "      <th>Coke</th>\n",
       "      <th>Crack</th>\n",
       "      <th>Ecstasy</th>\n",
       "      <th>Heroin</th>\n",
       "      <th>Ketamine</th>\n",
       "      <th>Legalh</th>\n",
       "      <th>LSD</th>\n",
       "      <th>Meth</th>\n",
       "      <th>Mushrooms</th>\n",
       "      <th>Nicotine</th>\n",
       "      <th>Semer</th>\n",
       "      <th>VSA</th>\n",
       "    </tr>\n",
       "    <tr>\n",
       "      <th>ID</th>\n",
       "      <th></th>\n",
       "      <th></th>\n",
       "      <th></th>\n",
       "      <th></th>\n",
       "      <th></th>\n",
       "      <th></th>\n",
       "      <th></th>\n",
       "      <th></th>\n",
       "      <th></th>\n",
       "      <th></th>\n",
       "      <th></th>\n",
       "      <th></th>\n",
       "      <th></th>\n",
       "      <th></th>\n",
       "      <th></th>\n",
       "      <th></th>\n",
       "      <th></th>\n",
       "      <th></th>\n",
       "      <th></th>\n",
       "      <th></th>\n",
       "      <th></th>\n",
       "      <th></th>\n",
       "      <th></th>\n",
       "      <th></th>\n",
       "      <th></th>\n",
       "      <th></th>\n",
       "      <th></th>\n",
       "      <th></th>\n",
       "      <th></th>\n",
       "      <th></th>\n",
       "      <th></th>\n",
       "    </tr>\n",
       "  </thead>\n",
       "  <tbody>\n",
       "    <tr>\n",
       "      <td>1</td>\n",
       "      <td>0.49788</td>\n",
       "      <td>0.48246</td>\n",
       "      <td>-0.05921</td>\n",
       "      <td>0.96082</td>\n",
       "      <td>0.12600</td>\n",
       "      <td>0.31287</td>\n",
       "      <td>-0.57545</td>\n",
       "      <td>-0.58331</td>\n",
       "      <td>-0.91699</td>\n",
       "      <td>-0.00665</td>\n",
       "      <td>-0.21712</td>\n",
       "      <td>-1.18084</td>\n",
       "      <td>CL5</td>\n",
       "      <td>CL2</td>\n",
       "      <td>CL0</td>\n",
       "      <td>CL2</td>\n",
       "      <td>CL6</td>\n",
       "      <td>CL0</td>\n",
       "      <td>CL5</td>\n",
       "      <td>CL0</td>\n",
       "      <td>CL0</td>\n",
       "      <td>CL0</td>\n",
       "      <td>CL0</td>\n",
       "      <td>CL0</td>\n",
       "      <td>CL0</td>\n",
       "      <td>CL0</td>\n",
       "      <td>CL0</td>\n",
       "      <td>CL0</td>\n",
       "      <td>CL2</td>\n",
       "      <td>CL0</td>\n",
       "      <td>CL0</td>\n",
       "    </tr>\n",
       "    <tr>\n",
       "      <td>2</td>\n",
       "      <td>-0.07854</td>\n",
       "      <td>-0.48246</td>\n",
       "      <td>1.98437</td>\n",
       "      <td>0.96082</td>\n",
       "      <td>-0.31685</td>\n",
       "      <td>-0.67825</td>\n",
       "      <td>1.93886</td>\n",
       "      <td>1.43533</td>\n",
       "      <td>0.76096</td>\n",
       "      <td>-0.14277</td>\n",
       "      <td>-0.71126</td>\n",
       "      <td>-0.21575</td>\n",
       "      <td>CL5</td>\n",
       "      <td>CL2</td>\n",
       "      <td>CL2</td>\n",
       "      <td>CL0</td>\n",
       "      <td>CL6</td>\n",
       "      <td>CL4</td>\n",
       "      <td>CL6</td>\n",
       "      <td>CL3</td>\n",
       "      <td>CL0</td>\n",
       "      <td>CL4</td>\n",
       "      <td>CL0</td>\n",
       "      <td>CL2</td>\n",
       "      <td>CL0</td>\n",
       "      <td>CL2</td>\n",
       "      <td>CL3</td>\n",
       "      <td>CL0</td>\n",
       "      <td>CL4</td>\n",
       "      <td>CL0</td>\n",
       "      <td>CL0</td>\n",
       "    </tr>\n",
       "    <tr>\n",
       "      <td>3</td>\n",
       "      <td>0.49788</td>\n",
       "      <td>-0.48246</td>\n",
       "      <td>-0.05921</td>\n",
       "      <td>0.96082</td>\n",
       "      <td>-0.31685</td>\n",
       "      <td>-0.46725</td>\n",
       "      <td>0.80523</td>\n",
       "      <td>-0.84732</td>\n",
       "      <td>-1.62090</td>\n",
       "      <td>-1.01450</td>\n",
       "      <td>-1.37983</td>\n",
       "      <td>0.40148</td>\n",
       "      <td>CL6</td>\n",
       "      <td>CL0</td>\n",
       "      <td>CL0</td>\n",
       "      <td>CL0</td>\n",
       "      <td>CL6</td>\n",
       "      <td>CL3</td>\n",
       "      <td>CL4</td>\n",
       "      <td>CL0</td>\n",
       "      <td>CL0</td>\n",
       "      <td>CL0</td>\n",
       "      <td>CL0</td>\n",
       "      <td>CL0</td>\n",
       "      <td>CL0</td>\n",
       "      <td>CL0</td>\n",
       "      <td>CL0</td>\n",
       "      <td>CL1</td>\n",
       "      <td>CL0</td>\n",
       "      <td>CL0</td>\n",
       "      <td>CL0</td>\n",
       "    </tr>\n",
       "    <tr>\n",
       "      <td>4</td>\n",
       "      <td>-0.95197</td>\n",
       "      <td>0.48246</td>\n",
       "      <td>1.16365</td>\n",
       "      <td>0.96082</td>\n",
       "      <td>-0.31685</td>\n",
       "      <td>-0.14882</td>\n",
       "      <td>-0.80615</td>\n",
       "      <td>-0.01928</td>\n",
       "      <td>0.59042</td>\n",
       "      <td>0.58489</td>\n",
       "      <td>-1.37983</td>\n",
       "      <td>-1.18084</td>\n",
       "      <td>CL4</td>\n",
       "      <td>CL0</td>\n",
       "      <td>CL0</td>\n",
       "      <td>CL3</td>\n",
       "      <td>CL5</td>\n",
       "      <td>CL2</td>\n",
       "      <td>CL4</td>\n",
       "      <td>CL2</td>\n",
       "      <td>CL0</td>\n",
       "      <td>CL0</td>\n",
       "      <td>CL0</td>\n",
       "      <td>CL2</td>\n",
       "      <td>CL0</td>\n",
       "      <td>CL0</td>\n",
       "      <td>CL0</td>\n",
       "      <td>CL0</td>\n",
       "      <td>CL2</td>\n",
       "      <td>CL0</td>\n",
       "      <td>CL0</td>\n",
       "    </tr>\n",
       "    <tr>\n",
       "      <td>5</td>\n",
       "      <td>0.49788</td>\n",
       "      <td>0.48246</td>\n",
       "      <td>1.98437</td>\n",
       "      <td>0.96082</td>\n",
       "      <td>-0.31685</td>\n",
       "      <td>0.73545</td>\n",
       "      <td>-1.63340</td>\n",
       "      <td>-0.45174</td>\n",
       "      <td>-0.30172</td>\n",
       "      <td>1.30612</td>\n",
       "      <td>-0.21712</td>\n",
       "      <td>-0.21575</td>\n",
       "      <td>CL4</td>\n",
       "      <td>CL1</td>\n",
       "      <td>CL1</td>\n",
       "      <td>CL0</td>\n",
       "      <td>CL6</td>\n",
       "      <td>CL3</td>\n",
       "      <td>CL6</td>\n",
       "      <td>CL0</td>\n",
       "      <td>CL0</td>\n",
       "      <td>CL1</td>\n",
       "      <td>CL0</td>\n",
       "      <td>CL0</td>\n",
       "      <td>CL1</td>\n",
       "      <td>CL0</td>\n",
       "      <td>CL0</td>\n",
       "      <td>CL2</td>\n",
       "      <td>CL2</td>\n",
       "      <td>CL0</td>\n",
       "      <td>CL0</td>\n",
       "    </tr>\n",
       "  </tbody>\n",
       "</table>\n",
       "</div>"
      ],
      "text/plain": [
       "        Age   Gender  Education  Country  Ethnicity   Nscore   Escore  \\\n",
       "ID                                                                      \n",
       "1   0.49788  0.48246   -0.05921  0.96082    0.12600  0.31287 -0.57545   \n",
       "2  -0.07854 -0.48246    1.98437  0.96082   -0.31685 -0.67825  1.93886   \n",
       "3   0.49788 -0.48246   -0.05921  0.96082   -0.31685 -0.46725  0.80523   \n",
       "4  -0.95197  0.48246    1.16365  0.96082   -0.31685 -0.14882 -0.80615   \n",
       "5   0.49788  0.48246    1.98437  0.96082   -0.31685  0.73545 -1.63340   \n",
       "\n",
       "     Oscore   Ascore   Cscore  Impulsive       SS Alcohol Amphet Amyl Benzos  \\\n",
       "ID                                                                             \n",
       "1  -0.58331 -0.91699 -0.00665   -0.21712 -1.18084     CL5    CL2  CL0    CL2   \n",
       "2   1.43533  0.76096 -0.14277   -0.71126 -0.21575     CL5    CL2  CL2    CL0   \n",
       "3  -0.84732 -1.62090 -1.01450   -1.37983  0.40148     CL6    CL0  CL0    CL0   \n",
       "4  -0.01928  0.59042  0.58489   -1.37983 -1.18084     CL4    CL0  CL0    CL3   \n",
       "5  -0.45174 -0.30172  1.30612   -0.21712 -0.21575     CL4    CL1  CL1    CL0   \n",
       "\n",
       "   Caff Cannabis Choc Coke Crack Ecstasy Heroin Ketamine Legalh  LSD Meth  \\\n",
       "ID                                                                          \n",
       "1   CL6      CL0  CL5  CL0   CL0     CL0    CL0      CL0    CL0  CL0  CL0   \n",
       "2   CL6      CL4  CL6  CL3   CL0     CL4    CL0      CL2    CL0  CL2  CL3   \n",
       "3   CL6      CL3  CL4  CL0   CL0     CL0    CL0      CL0    CL0  CL0  CL0   \n",
       "4   CL5      CL2  CL4  CL2   CL0     CL0    CL0      CL2    CL0  CL0  CL0   \n",
       "5   CL6      CL3  CL6  CL0   CL0     CL1    CL0      CL0    CL1  CL0  CL0   \n",
       "\n",
       "   Mushrooms Nicotine Semer  VSA  \n",
       "ID                                \n",
       "1        CL0      CL2   CL0  CL0  \n",
       "2        CL0      CL4   CL0  CL0  \n",
       "3        CL1      CL0   CL0  CL0  \n",
       "4        CL0      CL2   CL0  CL0  \n",
       "5        CL2      CL2   CL0  CL0  "
      ]
     },
     "execution_count": 81,
     "metadata": {},
     "output_type": "execute_result"
    }
   ],
   "source": [
    "df.head()"
   ]
  },
  {
   "cell_type": "markdown",
   "metadata": {},
   "source": [
    "## Create Target"
   ]
  },
  {
   "cell_type": "code",
   "execution_count": 82,
   "metadata": {},
   "outputs": [],
   "source": [
    "conditions = [(df['Crack'].isin(['CL2','CL3','CL4','CL5','CL6'])), \n",
    "              (df['Heroin'].isin(['CL2','CL3','CL4','CL5','CL6'])), \n",
    "              (df['Coke'].isin(['CL2','CL3','CL4','CL5','CL6'])),\n",
    "              (df['Meth'].isin(['CL2','CL3','CL4','CL5','CL6']))]\n",
    "options = [1,1,1,1]"
   ]
  },
  {
   "cell_type": "code",
   "execution_count": 83,
   "metadata": {},
   "outputs": [],
   "source": [
    "df['Hard_Drug_User'] = np.select(conditions, options, 0) #Make Hard_Drug_User column"
   ]
  },
  {
   "cell_type": "code",
   "execution_count": 84,
   "metadata": {},
   "outputs": [
    {
     "data": {
      "text/plain": [
       "0    1053\n",
       "1     832\n",
       "Name: Hard_Drug_User, dtype: int64"
      ]
     },
     "execution_count": 84,
     "metadata": {},
     "output_type": "execute_result"
    }
   ],
   "source": [
    "df['Hard_Drug_User'].value_counts()"
   ]
  },
  {
   "cell_type": "markdown",
   "metadata": {},
   "source": [
    "## Age"
   ]
  },
  {
   "cell_type": "code",
   "execution_count": 85,
   "metadata": {},
   "outputs": [],
   "source": [
    "df['Age'] = df['Age'].astype(str)"
   ]
  },
  {
   "cell_type": "code",
   "execution_count": 86,
   "metadata": {},
   "outputs": [],
   "source": [
    "conditions = [(df['Age'] == '-0.9519700000000001'), (df['Age'] == '-0.07854'),\n",
    "             (df['Age'] == '0.49788000000000004'), (df['Age'] == '1.09449'),\n",
    "             (df['Age'] == '1.82213'), (df['Age'] == '2.59171')]\n",
    "choices = ['18-24', '25-35', '35-44', '45-54', '55-64', '65+']"
   ]
  },
  {
   "cell_type": "code",
   "execution_count": 87,
   "metadata": {},
   "outputs": [],
   "source": [
    "df['Age'] = np.select(conditions, choices, df['Age'])"
   ]
  },
  {
   "cell_type": "code",
   "execution_count": 88,
   "metadata": {
    "scrolled": true
   },
   "outputs": [
    {
     "data": {
      "text/plain": [
       "18-24    643\n",
       "25-35    481\n",
       "35-44    356\n",
       "45-54    294\n",
       "55-64     93\n",
       "65+       18\n",
       "Name: Age, dtype: int64"
      ]
     },
     "execution_count": 88,
     "metadata": {},
     "output_type": "execute_result"
    }
   ],
   "source": [
    "df['Age'].value_counts()"
   ]
  },
  {
   "cell_type": "code",
   "execution_count": 89,
   "metadata": {},
   "outputs": [
    {
     "data": {
      "image/png": "[encoded data removed]",
      "text/plain": [
       "<Figure size 432x288 with 1 Axes>"
      ]
     },
     "metadata": {
      "needs_background": "light"
     },
     "output_type": "display_data"
    }
   ],
   "source": [
    "fig, ax = plt.subplots()\n",
    "ax.bar(df.groupby('Age')['Hard_Drug_User'].mean().index, df.groupby('Age')['Hard_Drug_User'].mean().values)\n",
    "ax.set_ylabel('percentage')\n",
    "ax.set_xlabel('Country')\n",
    "ax.set_title('mean Hard_Drug_User by Age')\n",
    "plt.xticks(rotation=90)\n",
    "plt.show()"
   ]
  },
  {
   "cell_type": "code",
   "execution_count": 90,
   "metadata": {},
   "outputs": [
    {
     "name": "stdout",
     "output_type": "stream",
     "text": [
      "Multiple Comparison of Means - Tukey HSD, FWER=0.05 \n",
      "====================================================\n",
      "group1 group2 meandiff p-adj   lower   upper  reject\n",
      "----------------------------------------------------\n",
      " 18-24  25-35  -0.0531 0.4436 -0.1355  0.0293  False\n",
      " 18-24  35-44  -0.1994  0.001 -0.2897  -0.109   True\n",
      " 18-24  45-54  -0.3332  0.001 -0.4295  -0.237   True\n",
      " 18-24  55-64  -0.3065  0.001 -0.4582 -0.1548   True\n",
      " 18-24    65+   -0.509  0.001 -0.8358 -0.1822   True\n",
      " 25-35  35-44  -0.1463  0.001 -0.2419 -0.0507   True\n",
      " 25-35  45-54  -0.2801  0.001 -0.3814 -0.1789   True\n",
      " 25-35  55-64  -0.2534  0.001 -0.4083 -0.0985   True\n",
      " 25-35    65+  -0.4559 0.0011 -0.7842 -0.1276   True\n",
      " 35-44  45-54  -0.1339 0.0054 -0.2416 -0.0261   True\n",
      " 35-44  55-64  -0.1071 0.3925 -0.2664  0.0521  False\n",
      " 35-44    65+  -0.3096 0.0813   -0.64  0.0208  False\n",
      " 45-54  55-64   0.0268    0.9 -0.1359  0.1895  False\n",
      " 45-54    65+  -0.1757  0.637 -0.5078  0.1563  False\n",
      " 55-64    65+  -0.2025 0.5616 -0.5546  0.1496  False\n",
      "----------------------------------------------------\n"
     ]
    }
   ],
   "source": [
    "mc = MultiComparison(df['Hard_Drug_User'], df['Age'])\n",
    "mc_results = mc.tukeyhsd()\n",
    "print(mc_results)"
   ]
  },
  {
   "cell_type": "markdown",
   "metadata": {},
   "source": [
    "### Make age is less than 35 group"
   ]
  },
  {
   "cell_type": "code",
   "execution_count": 91,
   "metadata": {},
   "outputs": [],
   "source": [
    "df['less_than_35'] = np.where(((df['Age'] == '18-24') | (df['Age'] == '25-35')), 1, 0)"
   ]
  },
  {
   "cell_type": "markdown",
   "metadata": {},
   "source": [
    "# EDA"
   ]
  },
  {
   "cell_type": "code",
   "execution_count": 50,
   "metadata": {},
   "outputs": [
    {
     "data": {
      "image/png": "[encoded data removed]",
      "text/plain": [
       "<Figure size 432x288 with 1 Axes>"
      ]
     },
     "metadata": {
      "needs_background": "light"
     },
     "output_type": "display_data"
    }
   ],
   "source": [
    "fig, ax = plt.subplots()\n",
    "ax.bar(df.groupby('less_than_35')['Hard_Drug_User'].mean().index, df.groupby('less_than_35')['Hard_Drug_User'].mean().values)\n",
    "ax.set_ylabel('percentage')\n",
    "ax.set_xlabel('less_than_35')\n",
    "ax.set_title('mean Hard_Drug_User by less_than_35')\n",
    "plt.xticks(rotation=90)\n",
    "plt.show()"
   ]
  },
  {
   "cell_type": "code",
   "execution_count": 92,
   "metadata": {},
   "outputs": [],
   "source": [
    "not_less_than_35 = df.loc[df['less_than_35'] == 0]"
   ]
  },
  {
   "cell_type": "code",
   "execution_count": 93,
   "metadata": {},
   "outputs": [],
   "source": [
    "less_than_35 = df.loc[df['less_than_35'] == 1]"
   ]
  },
  {
   "cell_type": "code",
   "execution_count": 94,
   "metadata": {},
   "outputs": [
    {
     "data": {
      "text/plain": [
       "Ttest_indResult(statistic=11.197113737733773, pvalue=3.8344130363351063e-28)"
      ]
     },
     "execution_count": 94,
     "metadata": {},
     "output_type": "execute_result"
    }
   ],
   "source": [
    "stats.ttest_ind(less_than_35['Hard_Drug_User'], not_less_than_35['Hard_Drug_User'], equal_var=False)"
   ]
  },
  {
   "cell_type": "markdown",
   "metadata": {},
   "source": [
    "## Gender"
   ]
  },
  {
   "cell_type": "code",
   "execution_count": 95,
   "metadata": {},
   "outputs": [],
   "source": [
    "df['Gender'] = df['Gender'].astype(str)"
   ]
  },
  {
   "cell_type": "code",
   "execution_count": 96,
   "metadata": {},
   "outputs": [],
   "source": [
    "conditions = [(df['Gender'] == '0.48246000000000006'), (df['Gender'] == '-0.48246000000000006'),\n",
    "             ]\n",
    "choices = ['Female', 'Male']"
   ]
  },
  {
   "cell_type": "code",
   "execution_count": 97,
   "metadata": {},
   "outputs": [],
   "source": [
    "df['Gender'] = np.select(conditions, choices, df['Gender'])"
   ]
  },
  {
   "cell_type": "code",
   "execution_count": 98,
   "metadata": {
    "scrolled": true
   },
   "outputs": [
    {
     "data": {
      "text/plain": [
       "Male      943\n",
       "Female    942\n",
       "Name: Gender, dtype: int64"
      ]
     },
     "execution_count": 98,
     "metadata": {},
     "output_type": "execute_result"
    }
   ],
   "source": [
    "df['Gender'].value_counts()"
   ]
  },
  {
   "cell_type": "code",
   "execution_count": 99,
   "metadata": {},
   "outputs": [
    {
     "data": {
      "image/png": "[encoded data removed]",
      "text/plain": [
       "<Figure size 432x288 with 1 Axes>"
      ]
     },
     "metadata": {
      "needs_background": "light"
     },
     "output_type": "display_data"
    }
   ],
   "source": [
    "fig, ax = plt.subplots()\n",
    "ax.bar(df.groupby('Gender')['Hard_Drug_User'].mean().index, df.groupby('Gender')['Hard_Drug_User'].mean().values)\n",
    "ax.set_ylabel('percentage')\n",
    "ax.set_xlabel('Gender')\n",
    "ax.set_title('mean Hard_Drug_User by Gender')\n",
    "plt.xticks(rotation=90)\n",
    "plt.show()"
   ]
  },
  {
   "cell_type": "code",
   "execution_count": 100,
   "metadata": {},
   "outputs": [
    {
     "data": {
      "text/plain": [
       "Ttest_indResult(statistic=8.974253968326266, pvalue=6.742780000791603e-19)"
      ]
     },
     "execution_count": 100,
     "metadata": {},
     "output_type": "execute_result"
    }
   ],
   "source": [
    "stats.ttest_ind(df[df['Gender']=='Male']['Hard_Drug_User'], df[df['Gender']=='Female']['Hard_Drug_User'], equal_var=False)"
   ]
  },
  {
   "cell_type": "markdown",
   "metadata": {},
   "source": [
    "## Education"
   ]
  },
  {
   "cell_type": "code",
   "execution_count": 101,
   "metadata": {},
   "outputs": [],
   "source": [
    "df['Education'] = df['Education'].astype(str)"
   ]
  },
  {
   "cell_type": "code",
   "execution_count": 102,
   "metadata": {},
   "outputs": [],
   "source": [
    "conditions = [(df['Education'] == '-0.6111300000000001'), (df['Education'] == '0.45468000000000003'),\n",
    "             (df['Education'] == '1.16365'), (df['Education'] == '-0.059210000000000006'),\n",
    "             (df['Education'] == '-1.22751'), (df['Education'] == '-1.7379'),\n",
    "             (df['Education'] == '1.98437'), (df['Education'] == '-1.43719'), \n",
    "              (df['Education'] == '-2.43591')]\n",
    "choices = ['Some college or university', 'University degree', \n",
    "           'Masters Degree', 'Professional certificate or diploma', 'Left school at 18 years', \n",
    "           'Left school at 16 years', 'Doctorate degree', 'Left school at 17 years',\n",
    "           'Left school before 16 years']"
   ]
  },
  {
   "cell_type": "code",
   "execution_count": 103,
   "metadata": {},
   "outputs": [],
   "source": [
    "df['Education'] = np.select(conditions, choices, df['Education'])"
   ]
  },
  {
   "cell_type": "code",
   "execution_count": 104,
   "metadata": {},
   "outputs": [
    {
     "data": {
      "text/plain": [
       "Some college or university             506\n",
       "University degree                      480\n",
       "Masters Degree                         283\n",
       "Professional certificate or diploma    270\n",
       "Left school at 18 years                100\n",
       "Left school at 16 years                 99\n",
       "Doctorate degree                        89\n",
       "Left school at 17 years                 30\n",
       "Left school before 16 years             28\n",
       "Name: Education, dtype: int64"
      ]
     },
     "execution_count": 104,
     "metadata": {},
     "output_type": "execute_result"
    }
   ],
   "source": [
    "df['Education'].value_counts()"
   ]
  },
  {
   "cell_type": "code",
   "execution_count": 105,
   "metadata": {
    "scrolled": true
   },
   "outputs": [
    {
     "data": {
      "image/png": "[encoded data removed]",
      "text/plain": [
       "<Figure size 432x288 with 1 Axes>"
      ]
     },
     "metadata": {
      "needs_background": "light"
     },
     "output_type": "display_data"
    }
   ],
   "source": [
    "fig, ax = plt.subplots()\n",
    "ax.bar(df.groupby('Education')['Hard_Drug_User'].mean().index, df.groupby('Education')['Hard_Drug_User'].mean().values)\n",
    "ax.set_ylabel('Percentage')\n",
    "ax.set_xlabel('Education')\n",
    "ax.set_title('mean Hard_Drug_User by education')\n",
    "plt.xticks(rotation=90)\n",
    "plt.show()"
   ]
  },
  {
   "cell_type": "markdown",
   "metadata": {},
   "source": [
    "# @HOW CAN WE USE <em>SOME COLLEGE</em> WHEN IT'S NOT SIGNIFICANTLY DIFFERENT FOR ALL GROUP BUT IS FOR MOST????"
   ]
  },
  {
   "cell_type": "code",
   "execution_count": 106,
   "metadata": {},
   "outputs": [
    {
     "name": "stdout",
     "output_type": "stream",
     "text": [
      "                             Multiple Comparison of Means - Tukey HSD, FWER=0.05                              \n",
      "==============================================================================================================\n",
      "               group1                              group2               meandiff p-adj   lower   upper  reject\n",
      "--------------------------------------------------------------------------------------------------------------\n",
      "                   Doctorate degree             Left school at 16 years   0.0243    0.9 -0.1951  0.2437  False\n",
      "                   Doctorate degree             Left school at 17 years   0.2404 0.3101 -0.0767  0.5576  False\n",
      "                   Doctorate degree             Left school at 18 years   0.2004 0.1036 -0.0184  0.4193  False\n",
      "                   Doctorate degree         Left school before 16 years   0.1404    0.9  -0.185  0.4659  False\n",
      "                   Doctorate degree                      Masters Degree  -0.0769    0.9 -0.2594  0.1057  False\n",
      "                   Doctorate degree Professional certificate or diploma   0.0293    0.9 -0.1543  0.2129  False\n",
      "                   Doctorate degree          Some college or university   0.2432  0.001  0.0706  0.4159   True\n",
      "                   Doctorate degree                   University degree   0.0238    0.9 -0.1496  0.1971  False\n",
      "            Left school at 16 years             Left school at 17 years   0.2162 0.4462 -0.0969  0.5292  False\n",
      "            Left school at 16 years             Left school at 18 years   0.1762 0.2005 -0.0368  0.3891  False\n",
      "            Left school at 16 years         Left school before 16 years   0.1162    0.9 -0.2054  0.4377  False\n",
      "            Left school at 16 years                      Masters Degree  -0.1012 0.6639 -0.2765  0.0742  False\n",
      "            Left school at 16 years Professional certificate or diploma   0.0051    0.9 -0.1714  0.1815  False\n",
      "            Left school at 16 years          Some college or university   0.2189 0.0013  0.0539   0.384   True\n",
      "            Left school at 16 years                   University degree  -0.0005    0.9 -0.1663  0.1653  False\n",
      "            Left school at 17 years             Left school at 18 years    -0.04    0.9 -0.3527  0.2727  False\n",
      "            Left school at 17 years         Left school before 16 years     -0.1    0.9 -0.4947  0.2947  False\n",
      "            Left school at 17 years                      Masters Degree  -0.3173 0.0187 -0.6057 -0.0289   True\n",
      "            Left school at 17 years Professional certificate or diploma  -0.2111 0.3636 -0.5002   0.078  False\n",
      "            Left school at 17 years          Some college or university   0.0028    0.9 -0.2795   0.285  False\n",
      "            Left school at 17 years                   University degree  -0.2167 0.2956 -0.4993   0.066  False\n",
      "            Left school at 18 years         Left school before 16 years    -0.06    0.9 -0.3812  0.2612  False\n",
      "            Left school at 18 years                      Masters Degree  -0.2773  0.001 -0.4521 -0.1026   True\n",
      "            Left school at 18 years Professional certificate or diploma  -0.1711 0.0639 -0.3469  0.0047  False\n",
      "            Left school at 18 years          Some college or university   0.0428    0.9 -0.1216  0.2071  False\n",
      "            Left school at 18 years                   University degree  -0.1767 0.0255 -0.3418 -0.0116   True\n",
      "        Left school before 16 years                      Masters Degree  -0.2173 0.3636 -0.5149  0.0803  False\n",
      "        Left school before 16 years Professional certificate or diploma  -0.1111    0.9 -0.4093  0.1871  False\n",
      "        Left school before 16 years          Some college or university   0.1028    0.9 -0.1888  0.3944  False\n",
      "        Left school before 16 years                   University degree  -0.1167    0.9 -0.4087  0.1754  False\n",
      "                     Masters Degree Professional certificate or diploma   0.1062 0.1951 -0.0216   0.234  False\n",
      "                     Masters Degree          Some college or university   0.3201  0.001  0.2086  0.4316   True\n",
      "                     Masters Degree                   University degree   0.1006 0.1235 -0.0119  0.2132  False\n",
      "Professional certificate or diploma          Some college or university   0.2139  0.001  0.1007  0.3271   True\n",
      "Professional certificate or diploma                   University degree  -0.0056    0.9 -0.1198  0.1087  False\n",
      "         Some college or university                   University degree  -0.2194  0.001 -0.3151 -0.1237   True\n",
      "--------------------------------------------------------------------------------------------------------------\n"
     ]
    }
   ],
   "source": [
    "mc = MultiComparison(df['Hard_Drug_User'], df['Education'])\n",
    "mc_results = mc.tukeyhsd()\n",
    "print(mc_results)"
   ]
  },
  {
   "cell_type": "markdown",
   "metadata": {},
   "source": [
    "## Country"
   ]
  },
  {
   "cell_type": "code",
   "execution_count": 108,
   "metadata": {},
   "outputs": [],
   "source": [
    "df['Country'] = df['Country'].astype(str)"
   ]
  },
  {
   "cell_type": "code",
   "execution_count": 109,
   "metadata": {},
   "outputs": [],
   "source": [
    "conditions = [(df['Country'] == '0.9608200000000001'), (df['Country'] == '-0.57009'),\n",
    "             (df['Country'] == '-0.28519'), (df['Country'] == '0.24923'),\n",
    "             (df['Country'] == '-0.09765'), (df['Country'] == '0.21128000000000002'),\n",
    "             (df['Country'] == '-0.46841000000000005')]\n",
    "choices = ['UK', 'USA', 'Other', 'Canada', 'Australia', 'Republic of Ireland', 'New Zealand']"
   ]
  },
  {
   "cell_type": "code",
   "execution_count": 110,
   "metadata": {},
   "outputs": [],
   "source": [
    "df['Country'] = np.select(conditions, choices, df['Country'])"
   ]
  },
  {
   "cell_type": "code",
   "execution_count": 111,
   "metadata": {},
   "outputs": [
    {
     "data": {
      "text/plain": [
       "UK                     1044\n",
       "USA                     557\n",
       "Other                   118\n",
       "Canada                   87\n",
       "Australia                54\n",
       "Republic of Ireland      20\n",
       "New Zealand               5\n",
       "Name: Country, dtype: int64"
      ]
     },
     "execution_count": 111,
     "metadata": {},
     "output_type": "execute_result"
    }
   ],
   "source": [
    "df['Country'].value_counts()"
   ]
  },
  {
   "cell_type": "code",
   "execution_count": 112,
   "metadata": {
    "scrolled": true
   },
   "outputs": [
    {
     "data": {
      "image/png": "[encoded data removed]",
      "text/plain": [
       "<Figure size 432x288 with 1 Axes>"
      ]
     },
     "metadata": {
      "needs_background": "light"
     },
     "output_type": "display_data"
    }
   ],
   "source": [
    "fig, ax = plt.subplots()\n",
    "ax.bar(df.groupby('Country')['Hard_Drug_User'].mean().index, df.groupby('Country')['Hard_Drug_User'].mean().values)\n",
    "ax.set_ylabel('percentage')\n",
    "ax.set_xlabel('Country')\n",
    "ax.set_title('mean Hard_Drug_User by country')\n",
    "plt.xticks(rotation=90)\n",
    "plt.show()"
   ]
  },
  {
   "cell_type": "code",
   "execution_count": 113,
   "metadata": {},
   "outputs": [
    {
     "name": "stdout",
     "output_type": "stream",
     "text": [
      "             Multiple Comparison of Means - Tukey HSD, FWER=0.05              \n",
      "==============================================================================\n",
      "       group1              group2       meandiff p-adj   lower   upper  reject\n",
      "------------------------------------------------------------------------------\n",
      "          Australia              Canada   0.0447    0.9 -0.1903  0.2797  False\n",
      "          Australia         New Zealand  -0.1185    0.9 -0.7525  0.5155  False\n",
      "          Australia               Other    -0.01    0.9 -0.2329  0.2128  False\n",
      "          Australia Republic of Ireland  -0.0185    0.9 -0.3735  0.3365  False\n",
      "          Australia                  UK  -0.2398 0.0036 -0.4291 -0.0505   True\n",
      "          Australia                 USA   0.1853 0.0707 -0.0081  0.3786  False\n",
      "             Canada         New Zealand  -0.1632    0.9  -0.787  0.4605  False\n",
      "             Canada               Other  -0.0547    0.9 -0.2464  0.1369  False\n",
      "             Canada Republic of Ireland  -0.0632    0.9 -0.3996  0.2731  False\n",
      "             Canada                  UK  -0.2845  0.001 -0.4358 -0.1331   True\n",
      "             Canada                 USA   0.1406 0.1112 -0.0158  0.2969  False\n",
      "        New Zealand               Other   0.1085    0.9 -0.5108  0.7278  False\n",
      "        New Zealand Republic of Ireland      0.1    0.9 -0.5782  0.7782  False\n",
      "        New Zealand                  UK  -0.1213    0.9 -0.7293  0.4868  False\n",
      "        New Zealand                 USA   0.3038 0.7342 -0.3055  0.9131  False\n",
      "              Other Republic of Ireland  -0.0085    0.9 -0.3365  0.3195  False\n",
      "              Other                  UK  -0.2297  0.001 -0.3615  -0.098   True\n",
      "              Other                 USA   0.1953  0.001  0.0578  0.3327   True\n",
      "Republic of Ireland                  UK  -0.2213 0.3335 -0.5274  0.0849  False\n",
      "Republic of Ireland                 USA   0.2038 0.4506 -0.1049  0.5124  False\n",
      "                 UK                 USA    0.425  0.001  0.3539  0.4962   True\n",
      "------------------------------------------------------------------------------\n"
     ]
    }
   ],
   "source": [
    "mc = MultiComparison(df['Hard_Drug_User'], df['Country'])\n",
    "mc_results = mc.tukeyhsd()\n",
    "print(mc_results)"
   ]
  },
  {
   "cell_type": "markdown",
   "metadata": {},
   "source": [
    "# @SHOULD WE CONSIDER UPSAMPLING OR SOMETHING TO GET THESE TO BE BALANCE?????"
   ]
  },
  {
   "cell_type": "code",
   "execution_count": 132,
   "metadata": {},
   "outputs": [
    {
     "data": {
      "text/html": [
       "<div>\n",
       "<style scoped>\n",
       "    .dataframe tbody tr th:only-of-type {\n",
       "        vertical-align: middle;\n",
       "    }\n",
       "\n",
       "    .dataframe tbody tr th {\n",
       "        vertical-align: top;\n",
       "    }\n",
       "\n",
       "    .dataframe thead th {\n",
       "        text-align: right;\n",
       "    }\n",
       "</style>\n",
       "<table border=\"1\" class=\"dataframe\">\n",
       "  <thead>\n",
       "    <tr style=\"text-align: right;\">\n",
       "      <th></th>\n",
       "      <th>Age</th>\n",
       "      <th>Gender</th>\n",
       "      <th>Education</th>\n",
       "      <th>Ethnicity</th>\n",
       "      <th>Nscore</th>\n",
       "      <th>Escore</th>\n",
       "      <th>Oscore</th>\n",
       "      <th>Ascore</th>\n",
       "      <th>Cscore</th>\n",
       "      <th>Impulsive</th>\n",
       "      <th>SS</th>\n",
       "      <th>Alcohol</th>\n",
       "      <th>Amphet</th>\n",
       "      <th>Amyl</th>\n",
       "      <th>Benzos</th>\n",
       "      <th>Caff</th>\n",
       "      <th>Cannabis</th>\n",
       "      <th>Choc</th>\n",
       "      <th>Coke</th>\n",
       "      <th>Crack</th>\n",
       "      <th>Ecstasy</th>\n",
       "      <th>Heroin</th>\n",
       "      <th>Ketamine</th>\n",
       "      <th>Legalh</th>\n",
       "      <th>LSD</th>\n",
       "      <th>Meth</th>\n",
       "      <th>Mushrooms</th>\n",
       "      <th>Nicotine</th>\n",
       "      <th>Semer</th>\n",
       "      <th>VSA</th>\n",
       "      <th>Hard_Drug_User</th>\n",
       "      <th>less_than_35</th>\n",
       "    </tr>\n",
       "    <tr>\n",
       "      <th>Country</th>\n",
       "      <th></th>\n",
       "      <th></th>\n",
       "      <th></th>\n",
       "      <th></th>\n",
       "      <th></th>\n",
       "      <th></th>\n",
       "      <th></th>\n",
       "      <th></th>\n",
       "      <th></th>\n",
       "      <th></th>\n",
       "      <th></th>\n",
       "      <th></th>\n",
       "      <th></th>\n",
       "      <th></th>\n",
       "      <th></th>\n",
       "      <th></th>\n",
       "      <th></th>\n",
       "      <th></th>\n",
       "      <th></th>\n",
       "      <th></th>\n",
       "      <th></th>\n",
       "      <th></th>\n",
       "      <th></th>\n",
       "      <th></th>\n",
       "      <th></th>\n",
       "      <th></th>\n",
       "      <th></th>\n",
       "      <th></th>\n",
       "      <th></th>\n",
       "      <th></th>\n",
       "      <th></th>\n",
       "      <th></th>\n",
       "    </tr>\n",
       "  </thead>\n",
       "  <tbody>\n",
       "    <tr>\n",
       "      <td>Australia</td>\n",
       "      <td>28</td>\n",
       "      <td>28</td>\n",
       "      <td>28</td>\n",
       "      <td>28</td>\n",
       "      <td>28</td>\n",
       "      <td>28</td>\n",
       "      <td>28</td>\n",
       "      <td>28</td>\n",
       "      <td>28</td>\n",
       "      <td>28</td>\n",
       "      <td>28</td>\n",
       "      <td>28</td>\n",
       "      <td>28</td>\n",
       "      <td>28</td>\n",
       "      <td>28</td>\n",
       "      <td>28</td>\n",
       "      <td>28</td>\n",
       "      <td>28</td>\n",
       "      <td>28</td>\n",
       "      <td>28</td>\n",
       "      <td>28</td>\n",
       "      <td>28</td>\n",
       "      <td>28</td>\n",
       "      <td>28</td>\n",
       "      <td>28</td>\n",
       "      <td>28</td>\n",
       "      <td>28</td>\n",
       "      <td>28</td>\n",
       "      <td>28</td>\n",
       "      <td>28</td>\n",
       "      <td>28</td>\n",
       "      <td>28</td>\n",
       "    </tr>\n",
       "    <tr>\n",
       "      <td>Canada</td>\n",
       "      <td>49</td>\n",
       "      <td>49</td>\n",
       "      <td>49</td>\n",
       "      <td>49</td>\n",
       "      <td>49</td>\n",
       "      <td>49</td>\n",
       "      <td>49</td>\n",
       "      <td>49</td>\n",
       "      <td>49</td>\n",
       "      <td>49</td>\n",
       "      <td>49</td>\n",
       "      <td>49</td>\n",
       "      <td>49</td>\n",
       "      <td>49</td>\n",
       "      <td>49</td>\n",
       "      <td>49</td>\n",
       "      <td>49</td>\n",
       "      <td>49</td>\n",
       "      <td>49</td>\n",
       "      <td>49</td>\n",
       "      <td>49</td>\n",
       "      <td>49</td>\n",
       "      <td>49</td>\n",
       "      <td>49</td>\n",
       "      <td>49</td>\n",
       "      <td>49</td>\n",
       "      <td>49</td>\n",
       "      <td>49</td>\n",
       "      <td>49</td>\n",
       "      <td>49</td>\n",
       "      <td>49</td>\n",
       "      <td>49</td>\n",
       "    </tr>\n",
       "    <tr>\n",
       "      <td>New Zealand</td>\n",
       "      <td>2</td>\n",
       "      <td>2</td>\n",
       "      <td>2</td>\n",
       "      <td>2</td>\n",
       "      <td>2</td>\n",
       "      <td>2</td>\n",
       "      <td>2</td>\n",
       "      <td>2</td>\n",
       "      <td>2</td>\n",
       "      <td>2</td>\n",
       "      <td>2</td>\n",
       "      <td>2</td>\n",
       "      <td>2</td>\n",
       "      <td>2</td>\n",
       "      <td>2</td>\n",
       "      <td>2</td>\n",
       "      <td>2</td>\n",
       "      <td>2</td>\n",
       "      <td>2</td>\n",
       "      <td>2</td>\n",
       "      <td>2</td>\n",
       "      <td>2</td>\n",
       "      <td>2</td>\n",
       "      <td>2</td>\n",
       "      <td>2</td>\n",
       "      <td>2</td>\n",
       "      <td>2</td>\n",
       "      <td>2</td>\n",
       "      <td>2</td>\n",
       "      <td>2</td>\n",
       "      <td>2</td>\n",
       "      <td>2</td>\n",
       "    </tr>\n",
       "    <tr>\n",
       "      <td>Other</td>\n",
       "      <td>60</td>\n",
       "      <td>60</td>\n",
       "      <td>60</td>\n",
       "      <td>60</td>\n",
       "      <td>60</td>\n",
       "      <td>60</td>\n",
       "      <td>60</td>\n",
       "      <td>60</td>\n",
       "      <td>60</td>\n",
       "      <td>60</td>\n",
       "      <td>60</td>\n",
       "      <td>60</td>\n",
       "      <td>60</td>\n",
       "      <td>60</td>\n",
       "      <td>60</td>\n",
       "      <td>60</td>\n",
       "      <td>60</td>\n",
       "      <td>60</td>\n",
       "      <td>60</td>\n",
       "      <td>60</td>\n",
       "      <td>60</td>\n",
       "      <td>60</td>\n",
       "      <td>60</td>\n",
       "      <td>60</td>\n",
       "      <td>60</td>\n",
       "      <td>60</td>\n",
       "      <td>60</td>\n",
       "      <td>60</td>\n",
       "      <td>60</td>\n",
       "      <td>60</td>\n",
       "      <td>60</td>\n",
       "      <td>60</td>\n",
       "    </tr>\n",
       "    <tr>\n",
       "      <td>Republic of Ireland</td>\n",
       "      <td>10</td>\n",
       "      <td>10</td>\n",
       "      <td>10</td>\n",
       "      <td>10</td>\n",
       "      <td>10</td>\n",
       "      <td>10</td>\n",
       "      <td>10</td>\n",
       "      <td>10</td>\n",
       "      <td>10</td>\n",
       "      <td>10</td>\n",
       "      <td>10</td>\n",
       "      <td>10</td>\n",
       "      <td>10</td>\n",
       "      <td>10</td>\n",
       "      <td>10</td>\n",
       "      <td>10</td>\n",
       "      <td>10</td>\n",
       "      <td>10</td>\n",
       "      <td>10</td>\n",
       "      <td>10</td>\n",
       "      <td>10</td>\n",
       "      <td>10</td>\n",
       "      <td>10</td>\n",
       "      <td>10</td>\n",
       "      <td>10</td>\n",
       "      <td>10</td>\n",
       "      <td>10</td>\n",
       "      <td>10</td>\n",
       "      <td>10</td>\n",
       "      <td>10</td>\n",
       "      <td>10</td>\n",
       "      <td>10</td>\n",
       "    </tr>\n",
       "    <tr>\n",
       "      <td>UK</td>\n",
       "      <td>291</td>\n",
       "      <td>291</td>\n",
       "      <td>291</td>\n",
       "      <td>291</td>\n",
       "      <td>291</td>\n",
       "      <td>291</td>\n",
       "      <td>291</td>\n",
       "      <td>291</td>\n",
       "      <td>291</td>\n",
       "      <td>291</td>\n",
       "      <td>291</td>\n",
       "      <td>291</td>\n",
       "      <td>291</td>\n",
       "      <td>291</td>\n",
       "      <td>291</td>\n",
       "      <td>291</td>\n",
       "      <td>291</td>\n",
       "      <td>291</td>\n",
       "      <td>291</td>\n",
       "      <td>291</td>\n",
       "      <td>291</td>\n",
       "      <td>291</td>\n",
       "      <td>291</td>\n",
       "      <td>291</td>\n",
       "      <td>291</td>\n",
       "      <td>291</td>\n",
       "      <td>291</td>\n",
       "      <td>291</td>\n",
       "      <td>291</td>\n",
       "      <td>291</td>\n",
       "      <td>291</td>\n",
       "      <td>291</td>\n",
       "    </tr>\n",
       "    <tr>\n",
       "      <td>USA</td>\n",
       "      <td>392</td>\n",
       "      <td>392</td>\n",
       "      <td>392</td>\n",
       "      <td>392</td>\n",
       "      <td>392</td>\n",
       "      <td>392</td>\n",
       "      <td>392</td>\n",
       "      <td>392</td>\n",
       "      <td>392</td>\n",
       "      <td>392</td>\n",
       "      <td>392</td>\n",
       "      <td>392</td>\n",
       "      <td>392</td>\n",
       "      <td>392</td>\n",
       "      <td>392</td>\n",
       "      <td>392</td>\n",
       "      <td>392</td>\n",
       "      <td>392</td>\n",
       "      <td>392</td>\n",
       "      <td>392</td>\n",
       "      <td>392</td>\n",
       "      <td>392</td>\n",
       "      <td>392</td>\n",
       "      <td>392</td>\n",
       "      <td>392</td>\n",
       "      <td>392</td>\n",
       "      <td>392</td>\n",
       "      <td>392</td>\n",
       "      <td>392</td>\n",
       "      <td>392</td>\n",
       "      <td>392</td>\n",
       "      <td>392</td>\n",
       "    </tr>\n",
       "  </tbody>\n",
       "</table>\n",
       "</div>"
      ],
      "text/plain": [
       "                     Age  Gender  Education  Ethnicity  Nscore  Escore  \\\n",
       "Country                                                                  \n",
       "Australia             28      28         28         28      28      28   \n",
       "Canada                49      49         49         49      49      49   \n",
       "New Zealand            2       2          2          2       2       2   \n",
       "Other                 60      60         60         60      60      60   \n",
       "Republic of Ireland   10      10         10         10      10      10   \n",
       "UK                   291     291        291        291     291     291   \n",
       "USA                  392     392        392        392     392     392   \n",
       "\n",
       "                     Oscore  Ascore  Cscore  Impulsive   SS  Alcohol  Amphet  \\\n",
       "Country                                                                        \n",
       "Australia                28      28      28         28   28       28      28   \n",
       "Canada                   49      49      49         49   49       49      49   \n",
       "New Zealand               2       2       2          2    2        2       2   \n",
       "Other                    60      60      60         60   60       60      60   \n",
       "Republic of Ireland      10      10      10         10   10       10      10   \n",
       "UK                      291     291     291        291  291      291     291   \n",
       "USA                     392     392     392        392  392      392     392   \n",
       "\n",
       "                     Amyl  Benzos  Caff  Cannabis  Choc  Coke  Crack  Ecstasy  \\\n",
       "Country                                                                         \n",
       "Australia              28      28    28        28    28    28     28       28   \n",
       "Canada                 49      49    49        49    49    49     49       49   \n",
       "New Zealand             2       2     2         2     2     2      2        2   \n",
       "Other                  60      60    60        60    60    60     60       60   \n",
       "Republic of Ireland    10      10    10        10    10    10     10       10   \n",
       "UK                    291     291   291       291   291   291    291      291   \n",
       "USA                   392     392   392       392   392   392    392      392   \n",
       "\n",
       "                     Heroin  Ketamine  Legalh  LSD  Meth  Mushrooms  Nicotine  \\\n",
       "Country                                                                         \n",
       "Australia                28        28      28   28    28         28        28   \n",
       "Canada                   49        49      49   49    49         49        49   \n",
       "New Zealand               2         2       2    2     2          2         2   \n",
       "Other                    60        60      60   60    60         60        60   \n",
       "Republic of Ireland      10        10      10   10    10         10        10   \n",
       "UK                      291       291     291  291   291        291       291   \n",
       "USA                     392       392     392  392   392        392       392   \n",
       "\n",
       "                     Semer  VSA  Hard_Drug_User  less_than_35  \n",
       "Country                                                        \n",
       "Australia               28   28              28            28  \n",
       "Canada                  49   49              49            49  \n",
       "New Zealand              2    2               2             2  \n",
       "Other                   60   60              60            60  \n",
       "Republic of Ireland     10   10              10            10  \n",
       "UK                     291  291             291           291  \n",
       "USA                    392  392             392           392  "
      ]
     },
     "execution_count": 132,
     "metadata": {},
     "output_type": "execute_result"
    }
   ],
   "source": [
    "df.loc[df['Hard_Drug_User'] == 1].groupby('Country').count()"
   ]
  },
  {
   "cell_type": "markdown",
   "metadata": {},
   "source": [
    "## Ethnicity"
   ]
  },
  {
   "cell_type": "code",
   "execution_count": 135,
   "metadata": {},
   "outputs": [],
   "source": [
    "df['Ethnicity'] = df['Ethnicity'].astype(str)"
   ]
  },
  {
   "cell_type": "code",
   "execution_count": 136,
   "metadata": {},
   "outputs": [],
   "source": [
    "conditions = [(df['Ethnicity'] == '-0.31685'), (df['Ethnicity'] == '0.1144'),\n",
    "             (df['Ethnicity'] == '-1.1070200000000001'), (df['Ethnicity'] == '-0.50212'),\n",
    "             (df['Ethnicity'] == '-0.22166'), (df['Ethnicity'] == '0.126'),\n",
    "             (df['Ethnicity'] == '1.90725')]\n",
    "choices = ['White', 'Other', 'Black', 'Asian', 'Mixed-White/Black', 'Mixed-White/Asian', \n",
    "           'Mixed-Black/Asian']"
   ]
  },
  {
   "cell_type": "code",
   "execution_count": 137,
   "metadata": {},
   "outputs": [],
   "source": [
    "df['Ethnicity'] = np.select(conditions, choices, df['Ethnicity'])"
   ]
  },
  {
   "cell_type": "code",
   "execution_count": 138,
   "metadata": {},
   "outputs": [
    {
     "data": {
      "text/plain": [
       "White                1720\n",
       "Other                  63\n",
       "Black                  33\n",
       "Asian                  26\n",
       "Mixed-White/Black      20\n",
       "Mixed-White/Asian      20\n",
       "Mixed-Black/Asian       3\n",
       "Name: Ethnicity, dtype: int64"
      ]
     },
     "execution_count": 138,
     "metadata": {},
     "output_type": "execute_result"
    }
   ],
   "source": [
    "df['Ethnicity'].value_counts()"
   ]
  },
  {
   "cell_type": "code",
   "execution_count": 139,
   "metadata": {},
   "outputs": [
    {
     "data": {
      "image/png": "[encoded data removed]",
      "text/plain": [
       "<Figure size 432x288 with 1 Axes>"
      ]
     },
     "metadata": {
      "needs_background": "light"
     },
     "output_type": "display_data"
    }
   ],
   "source": [
    "fig, ax = plt.subplots()\n",
    "ax.bar(df.groupby('Ethnicity')['Hard_Drug_User'].mean().index, df.groupby('Ethnicity')['Hard_Drug_User'].mean().values)\n",
    "ax.set_ylabel('percentage')\n",
    "ax.set_xlabel('Ethnicity')\n",
    "ax.set_title('mean crack users by ethnicity')\n",
    "plt.xticks(rotation=90)\n",
    "plt.show()"
   ]
  },
  {
   "cell_type": "code",
   "execution_count": 140,
   "metadata": {},
   "outputs": [
    {
     "name": "stdout",
     "output_type": "stream",
     "text": [
      "           Multiple Comparison of Means - Tukey HSD, FWER=0.05           \n",
      "=========================================================================\n",
      "      group1            group2      meandiff p-adj   lower  upper  reject\n",
      "-------------------------------------------------------------------------\n",
      "            Asian             Black   0.0361    0.9 -0.3459 0.4182  False\n",
      "            Asian Mixed-Black/Asian   0.2179    0.9 -0.6703 1.1062  False\n",
      "            Asian Mixed-White/Asian   0.4346 0.0487  0.0013 0.8679   True\n",
      "            Asian Mixed-White/Black   0.3846 0.1208 -0.0487 0.8179  False\n",
      "            Asian             Other   0.4719  0.001  0.1323 0.8115   True\n",
      "            Asian             White   0.3294 0.0132  0.0415 0.6172   True\n",
      "            Black Mixed-Black/Asian   0.1818    0.9 -0.6967 1.0603  False\n",
      "            Black Mixed-White/Asian   0.3985 0.0668 -0.0143 0.8113  False\n",
      "            Black Mixed-White/Black   0.3485 0.1629 -0.0643 0.7613  False\n",
      "            Black             Other   0.4358  0.001  0.1227 0.7488   True\n",
      "            Black             White   0.2933  0.013  0.0372 0.5493   True\n",
      "Mixed-Black/Asian Mixed-White/Asian   0.2167    0.9 -0.6853 1.1186  False\n",
      "Mixed-Black/Asian Mixed-White/Black   0.1667    0.9 -0.7353 1.0686  False\n",
      "Mixed-Black/Asian             Other    0.254    0.9 -0.6069 1.1149  False\n",
      "Mixed-Black/Asian             White   0.1114    0.9 -0.7304 0.9533  False\n",
      "Mixed-White/Asian Mixed-White/Black    -0.05    0.9 -0.5107 0.4107  False\n",
      "Mixed-White/Asian             Other   0.0373    0.9 -0.3366 0.4112  False\n",
      "Mixed-White/Asian             White  -0.1052    0.9 -0.4329 0.2224  False\n",
      "Mixed-White/Black             Other   0.0873    0.9 -0.2866 0.4612  False\n",
      "Mixed-White/Black             White  -0.0552    0.9 -0.3829 0.2724  False\n",
      "            Other             White  -0.1425 0.2688 -0.3294 0.0443  False\n",
      "-------------------------------------------------------------------------\n"
     ]
    }
   ],
   "source": [
    "mc = MultiComparison(df['Hard_Drug_User'], df['Ethnicity'])\n",
    "mc_results = mc.tukeyhsd()\n",
    "print(mc_results)"
   ]
  },
  {
   "cell_type": "code",
   "execution_count": 36,
   "metadata": {},
   "outputs": [],
   "source": [
    "features_columns = df.drop(columns='Hard_Drug_User').columns"
   ]
  },
  {
   "cell_type": "code",
   "execution_count": 37,
   "metadata": {},
   "outputs": [],
   "source": [
    "#Distribute columns into groups of 4 per row\n",
    "n = 4\n",
    "row_groups = [features_columns[i:i+n] for i in range(0, len(features_columns), n)]"
   ]
  },
  {
   "cell_type": "code",
   "execution_count": 38,
   "metadata": {},
   "outputs": [
    {
     "data": {
      "image/png": "[encoded data removed]",
      "text/plain": [
       "<Figure size 432x288 with 1 Axes>"
      ]
     },
     "metadata": {
      "needs_background": "light"
     },
     "output_type": "display_data"
    },
    {
     "data": {
      "image/png": "[encoded data removed]",
      "text/plain": [
       "<Figure size 432x288 with 1 Axes>"
      ]
     },
     "metadata": {
      "needs_background": "light"
     },
     "output_type": "display_data"
    },
    {
     "data": {
      "image/png": "[encoded data removed]",
      "text/plain": [
       "<Figure size 432x288 with 1 Axes>"
      ]
     },
     "metadata": {
      "needs_background": "light"
     },
     "output_type": "display_data"
    },
    {
     "data": {
      "image/png": "[encoded data removed]",
      "text/plain": [
       "<Figure size 432x288 with 1 Axes>"
      ]
     },
     "metadata": {
      "needs_background": "light"
     },
     "output_type": "display_data"
    },
    {
     "data": {
      "image/png": "[encoded data removed]",
      "text/plain": [
       "<Figure size 432x288 with 1 Axes>"
      ]
     },
     "metadata": {
      "needs_background": "light"
     },
     "output_type": "display_data"
    },
    {
     "data": {
      "image/png": "[encoded data removed]",
      "text/plain": [
       "<Figure size 432x288 with 1 Axes>"
      ]
     },
     "metadata": {
      "needs_background": "light"
     },
     "output_type": "display_data"
    },
    {
     "data": {
      "image/png": "[encoded data removed]",
      "text/plain": [
       "<Figure size 432x288 with 1 Axes>"
      ]
     },
     "metadata": {
      "needs_background": "light"
     },
     "output_type": "display_data"
    },
    {
     "data": {
      "image/png": "[encoded data removed]",
      "text/plain": [
       "<Figure size 432x288 with 1 Axes>"
      ]
     },
     "metadata": {
      "needs_background": "light"
     },
     "output_type": "display_data"
    },
    {
     "data": {
      "image/png": "[encoded data removed]",
      "text/plain": [
       "<Figure size 432x288 with 1 Axes>"
      ]
     },
     "metadata": {
      "needs_background": "light"
     },
     "output_type": "display_data"
    },
    {
     "data": {
      "image/png": "[encoded data removed]",
      "text/plain": [
       "<Figure size 432x288 with 1 Axes>"
      ]
     },
     "metadata": {
      "needs_background": "light"
     },
     "output_type": "display_data"
    },
    {
     "data": {
      "image/png": "[encoded data removed]",
      "text/plain": [
       "<Figure size 432x288 with 1 Axes>"
      ]
     },
     "metadata": {
      "needs_background": "light"
     },
     "output_type": "display_data"
    },
    {
     "data": {
      "image/png": "[encoded data removed]",
      "text/plain": [
       "<Figure size 432x288 with 1 Axes>"
      ]
     },
     "metadata": {
      "needs_background": "light"
     },
     "output_type": "display_data"
    },
    {
     "data": {
      "image/png": "[encoded data removed]",
      "text/plain": [
       "<Figure size 432x288 with 1 Axes>"
      ]
     },
     "metadata": {
      "needs_background": "light"
     },
     "output_type": "display_data"
    },
    {
     "data": {
      "image/png": "[encoded data removed]",
      "text/plain": [
       "<Figure size 432x288 with 1 Axes>"
      ]
     },
     "metadata": {
      "needs_background": "light"
     },
     "output_type": "display_data"
    },
    {
     "data": {
      "image/png": "[encoded data removed]",
      "text/plain": [
       "<Figure size 432x288 with 1 Axes>"
      ]
     },
     "metadata": {
      "needs_background": "light"
     },
     "output_type": "display_data"
    },
    {
     "data": {
      "image/png": "[encoded data removed]",
      "text/plain": [
       "<Figure size 432x288 with 1 Axes>"
      ]
     },
     "metadata": {
      "needs_background": "light"
     },
     "output_type": "display_data"
    },
    {
     "data": {
      "image/png": "[encoded data removed]",
      "text/plain": [
       "<Figure size 432x288 with 1 Axes>"
      ]
     },
     "metadata": {
      "needs_background": "light"
     },
     "output_type": "display_data"
    },
    {
     "data": {
      "image/png": "[encoded data removed]",
      "text/plain": [
       "<Figure size 432x288 with 1 Axes>"
      ]
     },
     "metadata": {
      "needs_background": "light"
     },
     "output_type": "display_data"
    },
    {
     "data": {
      "image/png": "[encoded data removed]",
      "text/plain": [
       "<Figure size 432x288 with 1 Axes>"
      ]
     },
     "metadata": {
      "needs_background": "light"
     },
     "output_type": "display_data"
    },
    {
     "data": {
      "image/png": "[encoded data removed]",
      "text/plain": [
       "<Figure size 432x288 with 1 Axes>"
      ]
     },
     "metadata": {
      "needs_background": "light"
     },
     "output_type": "display_data"
    },
    {
     "data": {
      "image/png": "[encoded data removed]",
      "text/plain": [
       "<Figure size 432x288 with 1 Axes>"
      ]
     },
     "metadata": {
      "needs_background": "light"
     },
     "output_type": "display_data"
    },
    {
     "data": {
      "image/png": "[encoded data removed]",
      "text/plain": [
       "<Figure size 432x288 with 1 Axes>"
      ]
     },
     "metadata": {
      "needs_background": "light"
     },
     "output_type": "display_data"
    },
    {
     "data": {
      "image/png": "[encoded data removed]",
      "text/plain": [
       "<Figure size 432x288 with 1 Axes>"
      ]
     },
     "metadata": {
      "needs_background": "light"
     },
     "output_type": "display_data"
    },
    {
     "data": {
      "image/png": "[encoded data removed]",
      "text/plain": [
       "<Figure size 432x288 with 1 Axes>"
      ]
     },
     "metadata": {
      "needs_background": "light"
     },
     "output_type": "display_data"
    },
    {
     "data": {
      "image/png": "[encoded data removed]",
      "text/plain": [
       "<Figure size 432x288 with 1 Axes>"
      ]
     },
     "metadata": {
      "needs_background": "light"
     },
     "output_type": "display_data"
    },
    {
     "data": {
      "image/png": "[encoded data removed]",
      "text/plain": [
       "<Figure size 432x288 with 1 Axes>"
      ]
     },
     "metadata": {
      "needs_background": "light"
     },
     "output_type": "display_data"
    },
    {
     "data": {
      "image/png": "[encoded data removed]",
      "text/plain": [
       "<Figure size 432x288 with 1 Axes>"
      ]
     },
     "metadata": {
      "needs_background": "light"
     },
     "output_type": "display_data"
    },
    {
     "data": {
      "image/png": "[encoded data removed]",
      "text/plain": [
       "<Figure size 432x288 with 1 Axes>"
      ]
     },
     "metadata": {
      "needs_background": "light"
     },
     "output_type": "display_data"
    },
    {
     "data": {
      "image/png": "[encoded data removed]",
      "text/plain": [
       "<Figure size 432x288 with 1 Axes>"
      ]
     },
     "metadata": {
      "needs_background": "light"
     },
     "output_type": "display_data"
    },
    {
     "data": {
      "image/png": "[encoded data removed]",
      "text/plain": [
       "<Figure size 432x288 with 1 Axes>"
      ]
     },
     "metadata": {
      "needs_background": "light"
     },
     "output_type": "display_data"
    },
    {
     "data": {
      "image/png": "[encoded data removed]",
      "text/plain": [
       "<Figure size 432x288 with 1 Axes>"
      ]
     },
     "metadata": {
      "needs_background": "light"
     },
     "output_type": "display_data"
    }
   ],
   "source": [
    "for i in row_groups:\n",
    "    for group in i:\n",
    "        fig, ax = plt.subplots()\n",
    "        ax.bar(df.groupby(group)['Hard_Drug_User'].mean().index, df.groupby(group)['Hard_Drug_User'].mean().values)\n",
    "        ax.set_ylabel('percentage')\n",
    "        ax.set_xlabel(group)\n",
    "        ax.set_title('mean crack users by '+group)\n",
    "        plt.xticks(rotation=90)\n",
    "        plt.show()"
   ]
  },
  {
   "cell_type": "code",
   "execution_count": 39,
   "metadata": {},
   "outputs": [],
   "source": [
    "from statsmodels.stats.multicomp import pairwise_tukeyhsd\n",
    "from statsmodels.stats.multicomp import MultiComparison"
   ]
  },
  {
   "cell_type": "code",
   "execution_count": 58,
   "metadata": {},
   "outputs": [
    {
     "name": "stdout",
     "output_type": "stream",
     "text": [
      "           Multiple Comparison of Means - Tukey HSD, FWER=0.05           \n",
      "=========================================================================\n",
      "      group1            group2      meandiff p-adj   lower  upper  reject\n",
      "-------------------------------------------------------------------------\n",
      "            Asian             Black   0.0361    0.9 -0.3459 0.4182  False\n",
      "            Asian Mixed-Black/Asian   0.2179    0.9 -0.6703 1.1062  False\n",
      "            Asian Mixed-White/Asian   0.4346 0.0487  0.0013 0.8679   True\n",
      "            Asian Mixed-White/Black   0.3846 0.1208 -0.0487 0.8179  False\n",
      "            Asian             Other   0.4719  0.001  0.1323 0.8115   True\n",
      "            Asian             White   0.3294 0.0132  0.0415 0.6172   True\n",
      "            Black Mixed-Black/Asian   0.1818    0.9 -0.6967 1.0603  False\n",
      "            Black Mixed-White/Asian   0.3985 0.0668 -0.0143 0.8113  False\n",
      "            Black Mixed-White/Black   0.3485 0.1629 -0.0643 0.7613  False\n",
      "            Black             Other   0.4358  0.001  0.1227 0.7488   True\n",
      "            Black             White   0.2933  0.013  0.0372 0.5493   True\n",
      "Mixed-Black/Asian Mixed-White/Asian   0.2167    0.9 -0.6853 1.1186  False\n",
      "Mixed-Black/Asian Mixed-White/Black   0.1667    0.9 -0.7353 1.0686  False\n",
      "Mixed-Black/Asian             Other    0.254    0.9 -0.6069 1.1149  False\n",
      "Mixed-Black/Asian             White   0.1114    0.9 -0.7304 0.9533  False\n",
      "Mixed-White/Asian Mixed-White/Black    -0.05    0.9 -0.5107 0.4107  False\n",
      "Mixed-White/Asian             Other   0.0373    0.9 -0.3366 0.4112  False\n",
      "Mixed-White/Asian             White  -0.1052    0.9 -0.4329 0.2224  False\n",
      "Mixed-White/Black             Other   0.0873    0.9 -0.2866 0.4612  False\n",
      "Mixed-White/Black             White  -0.0552    0.9 -0.3829 0.2724  False\n",
      "            Other             White  -0.1425 0.2688 -0.3294 0.0443  False\n",
      "-------------------------------------------------------------------------\n"
     ]
    }
   ],
   "source": [
    "mc = MultiComparison(df['Hard_Drug_User'], df['Ethnicity'])\n",
    "mc_results = mc.tukeyhsd()\n",
    "print(mc_results)"
   ]
  },
  {
   "cell_type": "code",
   "execution_count": null,
   "metadata": {},
   "outputs": [],
   "source": [
    "dontmakedummies()"
   ]
  },
  {
   "cell_type": "code",
   "execution_count": null,
   "metadata": {},
   "outputs": [],
   "source": [
    "dummies = ['Education', 'Age', 'Gender', 'Country', 'Ethnicity']"
   ]
  },
  {
   "cell_type": "code",
   "execution_count": null,
   "metadata": {},
   "outputs": [],
   "source": [
    "df = pd.get_dummies(data=df, columns=dummies, drop_first=True) "
   ]
  },
  {
   "cell_type": "code",
   "execution_count": null,
   "metadata": {},
   "outputs": [],
   "source": [
    "df"
   ]
  },
  {
   "cell_type": "code",
   "execution_count": null,
   "metadata": {
    "scrolled": false
   },
   "outputs": [],
   "source": [
    "#Heatmap to Visualize Correlations\n",
    "sns.set(style=\"white\")\n",
    "corr = df.corr() \n",
    "mask = np.zeros_like(corr, dtype=np.bool)\n",
    "mask[np.triu_indices_from(mask)] = True\n",
    "f, ax = plt.subplots(figsize=(11, 9))\n",
    "cmap = sns.diverging_palette(220, 10, as_cmap=True)\n",
    "sns.heatmap(corr, mask=mask, cmap=cmap, vmax=.75, center=0,\n",
    "            square=True, linewidths=.5, cbar_kws={\"shrink\": .5});"
   ]
  },
  {
   "cell_type": "markdown",
   "metadata": {},
   "source": [
    "### Train Test Split"
   ]
  },
  {
   "cell_type": "code",
   "execution_count": null,
   "metadata": {},
   "outputs": [],
   "source": [
    "target = df['Hard_Drug_User']\n",
    "features = df.select_dtypes(include=['number']).drop(columns='Hard_Drug_User')"
   ]
  },
  {
   "cell_type": "code",
   "execution_count": null,
   "metadata": {},
   "outputs": [],
   "source": [
    "X_train, X_test, y_train, y_test = train_test_split(features, target, test_size=.2, random_state=42)"
   ]
  },
  {
   "cell_type": "code",
   "execution_count": null,
   "metadata": {},
   "outputs": [],
   "source": [
    "scaler= MinMaxScaler()\n",
    "scaler.fit(X_train)\n",
    "X_train = pd.DataFrame(data = scaler.transform(X_train), columns = features.columns)\n",
    "X_test = pd.DataFrame(data = scaler.transform(X_test), columns = features.columns)"
   ]
  },
  {
   "cell_type": "markdown",
   "metadata": {},
   "source": [
    "### Logistic Regression"
   ]
  },
  {
   "cell_type": "code",
   "execution_count": null,
   "metadata": {},
   "outputs": [],
   "source": [
    "logreg = LogisticRegression(class_weight='balanced')\n",
    "logreg.fit(X_train, y_train)\n",
    "logreg_preds = logreg.predict(X_test)\n",
    "logreg_f1 = metrics.f1_score(y_test, logreg_preds)\n",
    "logreg_acc = metrics.accuracy_score(y_test, logreg_preds)\n",
    "print('Test F1:' , logreg_f1)\n",
    "print('Test Accuracy:' , logreg_acc)"
   ]
  },
  {
   "cell_type": "markdown",
   "metadata": {},
   "source": [
    "### KNN"
   ]
  },
  {
   "cell_type": "code",
   "execution_count": null,
   "metadata": {},
   "outputs": [],
   "source": [
    "knn = KNeighborsClassifier(weights='distance')\n",
    "knn.fit(X_train, y_train)\n",
    "y_pred_knn = knn.predict(X_test)\n",
    "knn_f1 = metrics.f1_score(y_test, y_pred_knn)\n",
    "knn_acc = metrics.accuracy_score(y_test, y_pred_knn)\n",
    "print('Test F1:' + str(knn_f1))\n",
    "print('Test Accuracy:' + str(knn_acc))"
   ]
  },
  {
   "cell_type": "markdown",
   "metadata": {},
   "source": [
    "### Decision Tree"
   ]
  },
  {
   "cell_type": "code",
   "execution_count": null,
   "metadata": {},
   "outputs": [],
   "source": [
    "tree = DecisionTreeClassifier(max_depth=10, class_weight='balanced')\n",
    "tree.fit(X_train, y_train)\n",
    "tree_pred = tree.predict(X_test)\n",
    "tree_f1 = metrics.f1_score(tree_pred, y_test)\n",
    "tree_acc = metrics.accuracy_score(tree_pred, y_test)\n",
    "print('Test F1 score: ', tree_f1)\n",
    "print('Test Accuracy score: ', tree_acc)"
   ]
  },
  {
   "cell_type": "markdown",
   "metadata": {},
   "source": [
    "### Random Forest"
   ]
  },
  {
   "cell_type": "code",
   "execution_count": null,
   "metadata": {},
   "outputs": [],
   "source": [
    "forest = RandomForestClassifier(class_weight = 'balanced', random_state=42, n_jobs=-1, n_estimators = 100)\n",
    "forest.fit(X_train, y_train)\n",
    "forest_preds = forest.predict(X_test)\n",
    "forest_f1 = metrics.f1_score(y_test, forest_preds)\n",
    "forest_acc = metrics.accuracy_score(y_test, forest_preds)\n",
    "print('Test F1 score: ', forest_f1)\n",
    "print('Test Accuracy score: ', forest_acc)"
   ]
  },
  {
   "cell_type": "markdown",
   "metadata": {},
   "source": [
    "### GridCV - RF"
   ]
  },
  {
   "cell_type": "code",
   "execution_count": null,
   "metadata": {},
   "outputs": [],
   "source": [
    "forest_params = { \n",
    "    'n_estimators': [350, 400, 450],\n",
    "    'max_features': [.15, .25, .35],\n",
    "    'max_depth' : [3, 5, 7],\n",
    "    'criterion' : ['entropy']   \n",
    "}"
   ]
  },
  {
   "cell_type": "code",
   "execution_count": null,
   "metadata": {},
   "outputs": [],
   "source": [
    "blank_forest = RandomForestClassifier(random_state = 1, class_weight='balanced')\n",
    "forest_grid = GridSearchCV(estimator=blank_forest, param_grid=forest_params, cv= 5, scoring='f1', verbose=1, n_jobs=-1)\n",
    "forest_grid.fit(X_train, y_train)\n",
    "print(forest_grid.best_params_)\n",
    "print(forest_grid.best_estimator_)\n",
    "print(forest_grid.best_score_)"
   ]
  },
  {
   "cell_type": "code",
   "execution_count": null,
   "metadata": {},
   "outputs": [],
   "source": [
    "best_forest = forest_grid.best_estimator_\n",
    "bf_preds = best_forest.predict(X_test)\n",
    "bf_f1 = metrics.f1_score(y_test, bf_preds)\n",
    "bf_acc = metrics.accuracy_score(y_test, bf_preds)\n",
    "print('Test F1 score: ', bf_f1)\n",
    "print('Test Accuracy score: ', bf_acc)"
   ]
  },
  {
   "cell_type": "code",
   "execution_count": null,
   "metadata": {},
   "outputs": [],
   "source": []
  },
  {
   "cell_type": "code",
   "execution_count": null,
   "metadata": {},
   "outputs": [],
   "source": []
  },
  {
   "cell_type": "code",
   "execution_count": null,
   "metadata": {},
   "outputs": [],
   "source": []
  },
  {
   "cell_type": "code",
   "execution_count": null,
   "metadata": {},
   "outputs": [],
   "source": []
  },
  {
   "cell_type": "code",
   "execution_count": null,
   "metadata": {},
   "outputs": [],
   "source": []
  }
 ],
 "metadata": {
  "kernelspec": {
   "display_name": "Python 3",
   "language": "python",
   "name": "python3"
  },
  "language_info": {
   "codemirror_mode": {
    "name": "ipython",
    "version": 3
   },
   "file_extension": ".py",
   "mimetype": "text/x-python",
   "name": "python",
   "nbconvert_exporter": "python",
   "pygments_lexer": "ipython3",
   "version": "3.6.9"
  }
 },
 "nbformat": 4,
 "nbformat_minor": 2
}
